{
 "cells": [
  {
   "cell_type": "markdown",
   "metadata": {},
   "source": [
    "#### KERAS 분류 DNN 모델 구성 \n",
    "- 모델 설계 & 생성 & 학습\n",
    "- 분류 모델용 손실 함수, 성능지표"
   ]
  },
  {
   "cell_type": "markdown",
   "metadata": {},
   "source": [
    "- [0] 모듈 로딩 <hr>"
   ]
  },
  {
   "cell_type": "code",
   "execution_count": 52,
   "metadata": {},
   "outputs": [
    {
     "name": "stdout",
     "output_type": "stream",
     "text": [
      "tf version : 2.10.0, keras version : 2.10.0\n"
     ]
    }
   ],
   "source": [
    "import tensorflow as tf \n",
    "import keras\n",
    "\n",
    "print(f'tf version : {tf.__version__}, keras version : {keras.__version__}')"
   ]
  },
  {
   "cell_type": "code",
   "execution_count": 53,
   "metadata": {},
   "outputs": [],
   "source": [
    "from keras.models import Sequential\n",
    "from keras.layers import Dense, Activation\n",
    "import numpy as np\n",
    "import pandas as pd"
   ]
  },
  {
   "cell_type": "markdown",
   "metadata": {},
   "source": [
    "- [1] 데이터 준비 <hr>"
   ]
  },
  {
   "cell_type": "code",
   "execution_count": 54,
   "metadata": {},
   "outputs": [
    {
     "name": "stdout",
     "output_type": "stream",
     "text": [
      "<class 'pandas.core.frame.DataFrame'>\n",
      "RangeIndex: 150 entries, 0 to 149\n",
      "Data columns (total 5 columns):\n",
      " #   Column        Non-Null Count  Dtype  \n",
      "---  ------        --------------  -----  \n",
      " 0   sepal_length  150 non-null    float64\n",
      " 1   sepal_width   150 non-null    float64\n",
      " 2   petal_length  150 non-null    float64\n",
      " 3   petal_width   150 non-null    float64\n",
      " 4   species       150 non-null    object \n",
      "dtypes: float64(4), object(1)\n",
      "memory usage: 6.0+ KB\n"
     ]
    }
   ],
   "source": [
    "# 데이터 파일 -------------------------------------------\n",
    "filename='../data/iris3.csv'\n",
    "\n",
    "irisDF=pd.read_csv(filename)\n",
    "irisDF.info()"
   ]
  },
  {
   "cell_type": "markdown",
   "metadata": {},
   "source": [
    "- [2] 훈련 데이터 준비 <hr>"
   ]
  },
  {
   "cell_type": "markdown",
   "metadata": {},
   "source": [
    "- [2-1] File => DataFrame 준비"
   ]
  },
  {
   "cell_type": "code",
   "execution_count": 55,
   "metadata": {},
   "outputs": [],
   "source": [
    "data=irisDF[irisDF.columns[:-1]]\n",
    "target=irisDF['species']"
   ]
  },
  {
   "cell_type": "code",
   "execution_count": 56,
   "metadata": {},
   "outputs": [
    {
     "name": "stdout",
     "output_type": "stream",
     "text": [
      "data => (150, 4), 2차원\n",
      "target => (150,), 1차원\n",
      "\n",
      "0번행 데이터 ======>\n",
      "sepal_length    5.1\n",
      "sepal_width     3.5\n",
      "petal_length    1.4\n",
      "petal_width     0.2\n",
      "Name: 0, dtype: float64\n",
      "\n",
      "0번행 라벨 ======> Iris-setosa\n"
     ]
    }
   ],
   "source": [
    "print(f'data => {data.shape}, {data.ndim}차원')\n",
    "print(f'target => {target.shape}, {target.ndim}차원\\n')\n",
    "\n",
    "print(f'0번행 데이터 ======>\\n{data.iloc[0]}\\n\\n0번행 라벨 ======> {target[0]}')"
   ]
  },
  {
   "cell_type": "markdown",
   "metadata": {},
   "source": [
    "- [2-2] 데이터 전처리 "
   ]
  },
  {
   "cell_type": "code",
   "execution_count": 57,
   "metadata": {},
   "outputs": [
    {
     "data": {
      "text/plain": [
       "array(['Iris-setosa', 'Iris-versicolor', 'Iris-virginica'], dtype=object)"
      ]
     },
     "execution_count": 57,
     "metadata": {},
     "output_type": "execute_result"
    }
   ],
   "source": [
    "####  타겟 타입 변환  : Object ==> float\n",
    "target.unique()"
   ]
  },
  {
   "cell_type": "code",
   "execution_count": 58,
   "metadata": {},
   "outputs": [
    {
     "name": "stdout",
     "output_type": "stream",
     "text": [
      "[정수 라벨링] label_int : (150,)\n",
      "[0 0 0 0 0 0 0 0 0 0 0 0 0 0 0 0 0 0 0 0 0 0 0 0 0 0 0 0 0 0 0 0 0 0 0 0 0\n",
      " 0 0 0 0 0 0 0 0 0 0 0 0 0 1 1 1 1 1 1 1 1 1 1 1 1 1 1 1 1 1 1 1 1 1 1 1 1\n",
      " 1 1 1 1 1 1 1 1 1 1 1 1 1 1 1 1 1 1 1 1 1 1 1 1 1 1 2 2 2 2 2 2 2 2 2 2 2\n",
      " 2 2 2 2 2 2 2 2 2 2 2 2 2 2 2 2 2 2 2 2 2 2 2 2 2 2 2 2 2 2 2 2 2 2 2 2 2\n",
      " 2 2]\n"
     ]
    }
   ],
   "source": [
    "from sklearn.preprocessing import LabelEncoder\n",
    "\n",
    "# 정수 라벨링\n",
    "encoder = LabelEncoder()\n",
    "encoder.fit(target)\n",
    "label_int = encoder.transform(target)\n",
    "print(f'[정수 라벨링] label_int : {label_int.shape}\\n{label_int}')"
   ]
  },
  {
   "cell_type": "code",
   "execution_count": 59,
   "metadata": {},
   "outputs": [
    {
     "name": "stdout",
     "output_type": "stream",
     "text": [
      "[인코딩 라벨] target_oh : [[1. 0. 0.]\n",
      " [1. 0. 0.]\n",
      " [1. 0. 0.]\n",
      " [1. 0. 0.]\n",
      " [1. 0. 0.]\n",
      " [1. 0. 0.]\n",
      " [1. 0. 0.]\n",
      " [1. 0. 0.]\n",
      " [1. 0. 0.]\n",
      " [1. 0. 0.]\n",
      " [1. 0. 0.]\n",
      " [1. 0. 0.]\n",
      " [1. 0. 0.]\n",
      " [1. 0. 0.]\n",
      " [1. 0. 0.]\n",
      " [1. 0. 0.]\n",
      " [1. 0. 0.]\n",
      " [1. 0. 0.]\n",
      " [1. 0. 0.]\n",
      " [1. 0. 0.]\n",
      " [1. 0. 0.]\n",
      " [1. 0. 0.]\n",
      " [1. 0. 0.]\n",
      " [1. 0. 0.]\n",
      " [1. 0. 0.]\n",
      " [1. 0. 0.]\n",
      " [1. 0. 0.]\n",
      " [1. 0. 0.]\n",
      " [1. 0. 0.]\n",
      " [1. 0. 0.]\n",
      " [1. 0. 0.]\n",
      " [1. 0. 0.]\n",
      " [1. 0. 0.]\n",
      " [1. 0. 0.]\n",
      " [1. 0. 0.]\n",
      " [1. 0. 0.]\n",
      " [1. 0. 0.]\n",
      " [1. 0. 0.]\n",
      " [1. 0. 0.]\n",
      " [1. 0. 0.]\n",
      " [1. 0. 0.]\n",
      " [1. 0. 0.]\n",
      " [1. 0. 0.]\n",
      " [1. 0. 0.]\n",
      " [1. 0. 0.]\n",
      " [1. 0. 0.]\n",
      " [1. 0. 0.]\n",
      " [1. 0. 0.]\n",
      " [1. 0. 0.]\n",
      " [1. 0. 0.]\n",
      " [0. 1. 0.]\n",
      " [0. 1. 0.]\n",
      " [0. 1. 0.]\n",
      " [0. 1. 0.]\n",
      " [0. 1. 0.]\n",
      " [0. 1. 0.]\n",
      " [0. 1. 0.]\n",
      " [0. 1. 0.]\n",
      " [0. 1. 0.]\n",
      " [0. 1. 0.]\n",
      " [0. 1. 0.]\n",
      " [0. 1. 0.]\n",
      " [0. 1. 0.]\n",
      " [0. 1. 0.]\n",
      " [0. 1. 0.]\n",
      " [0. 1. 0.]\n",
      " [0. 1. 0.]\n",
      " [0. 1. 0.]\n",
      " [0. 1. 0.]\n",
      " [0. 1. 0.]\n",
      " [0. 1. 0.]\n",
      " [0. 1. 0.]\n",
      " [0. 1. 0.]\n",
      " [0. 1. 0.]\n",
      " [0. 1. 0.]\n",
      " [0. 1. 0.]\n",
      " [0. 1. 0.]\n",
      " [0. 1. 0.]\n",
      " [0. 1. 0.]\n",
      " [0. 1. 0.]\n",
      " [0. 1. 0.]\n",
      " [0. 1. 0.]\n",
      " [0. 1. 0.]\n",
      " [0. 1. 0.]\n",
      " [0. 1. 0.]\n",
      " [0. 1. 0.]\n",
      " [0. 1. 0.]\n",
      " [0. 1. 0.]\n",
      " [0. 1. 0.]\n",
      " [0. 1. 0.]\n",
      " [0. 1. 0.]\n",
      " [0. 1. 0.]\n",
      " [0. 1. 0.]\n",
      " [0. 1. 0.]\n",
      " [0. 1. 0.]\n",
      " [0. 1. 0.]\n",
      " [0. 1. 0.]\n",
      " [0. 1. 0.]\n",
      " [0. 1. 0.]\n",
      " [0. 1. 0.]\n",
      " [0. 0. 1.]\n",
      " [0. 0. 1.]\n",
      " [0. 0. 1.]\n",
      " [0. 0. 1.]\n",
      " [0. 0. 1.]\n",
      " [0. 0. 1.]\n",
      " [0. 0. 1.]\n",
      " [0. 0. 1.]\n",
      " [0. 0. 1.]\n",
      " [0. 0. 1.]\n",
      " [0. 0. 1.]\n",
      " [0. 0. 1.]\n",
      " [0. 0. 1.]\n",
      " [0. 0. 1.]\n",
      " [0. 0. 1.]\n",
      " [0. 0. 1.]\n",
      " [0. 0. 1.]\n",
      " [0. 0. 1.]\n",
      " [0. 0. 1.]\n",
      " [0. 0. 1.]\n",
      " [0. 0. 1.]\n",
      " [0. 0. 1.]\n",
      " [0. 0. 1.]\n",
      " [0. 0. 1.]\n",
      " [0. 0. 1.]\n",
      " [0. 0. 1.]\n",
      " [0. 0. 1.]\n",
      " [0. 0. 1.]\n",
      " [0. 0. 1.]\n",
      " [0. 0. 1.]\n",
      " [0. 0. 1.]\n",
      " [0. 0. 1.]\n",
      " [0. 0. 1.]\n",
      " [0. 0. 1.]\n",
      " [0. 0. 1.]\n",
      " [0. 0. 1.]\n",
      " [0. 0. 1.]\n",
      " [0. 0. 1.]\n",
      " [0. 0. 1.]\n",
      " [0. 0. 1.]\n",
      " [0. 0. 1.]\n",
      " [0. 0. 1.]\n",
      " [0. 0. 1.]\n",
      " [0. 0. 1.]\n",
      " [0. 0. 1.]\n",
      " [0. 0. 1.]\n",
      " [0. 0. 1.]\n",
      " [0. 0. 1.]\n",
      " [0. 0. 1.]\n",
      " [0. 0. 1.]], (150, 3)\n",
      "<class 'numpy.ndarray'>\n"
     ]
    }
   ],
   "source": [
    "### One-Hot-Encoder\n",
    "from keras.utils import to_categorical\n",
    "\n",
    "# 정수형 타겟 >>> 원핫인코딩\n",
    "target_oh = to_categorical(label_int)\n",
    "print(f'[인코딩 라벨] target_oh : {target_oh}, {target_oh.shape}\\n{type(target_oh)}')"
   ]
  },
  {
   "cell_type": "markdown",
   "metadata": {},
   "source": [
    "#### [3] 모델 설계 <hr>"
   ]
  },
  {
   "cell_type": "code",
   "execution_count": 60,
   "metadata": {},
   "outputs": [],
   "source": [
    "# 순차적 모델 인스턴스 생성\n",
    "irisModel=Sequential(name='irisClassifier')"
   ]
  },
  {
   "cell_type": "code",
   "execution_count": 61,
   "metadata": {},
   "outputs": [],
   "source": [
    "# 입력층\n",
    "irisModel.add(Dense(10, input_shape=(4,), name='In_Layer'))\n",
    "irisModel.add(Activation('relu'))\n",
    "\n",
    "# 은닉층\n",
    "irisModel.add(Dense(8, activation='relu', name='Hidd1'))\n",
    "irisModel.add(Dense(6, activation='relu', name='Hidd2'))\n",
    "irisModel.add(Dense(4, activation='relu', name='Hidd3'))\n",
    "\n",
    "# 출력층\n",
    "irisModel.add(Dense(3, activation='softmax', name='Out_Layer'))"
   ]
  },
  {
   "cell_type": "code",
   "execution_count": 62,
   "metadata": {},
   "outputs": [
    {
     "name": "stdout",
     "output_type": "stream",
     "text": [
      "Model: \"irisClassifier\"\n",
      "_________________________________________________________________\n",
      " Layer (type)                Output Shape              Param #   \n",
      "=================================================================\n",
      " In_Layer (Dense)            (None, 10)                50        \n",
      "                                                                 \n",
      " activation_2 (Activation)   (None, 10)                0         \n",
      "                                                                 \n",
      " Hidd1 (Dense)               (None, 8)                 88        \n",
      "                                                                 \n",
      " Hidd2 (Dense)               (None, 6)                 54        \n",
      "                                                                 \n",
      " Hidd3 (Dense)               (None, 4)                 28        \n",
      "                                                                 \n",
      " Out_Layer (Dense)           (None, 3)                 15        \n",
      "                                                                 \n",
      "=================================================================\n",
      "Total params: 235\n",
      "Trainable params: 235\n",
      "Non-trainable params: 0\n",
      "_________________________________________________________________\n"
     ]
    }
   ],
   "source": [
    "irisModel.summary()"
   ]
  },
  {
   "cell_type": "markdown",
   "metadata": {},
   "source": [
    "### [4] 모델 생성 <hr>"
   ]
  },
  {
   "cell_type": "markdown",
   "metadata": {},
   "source": [
    "- 손실함수\n",
    "    * 회귀용 : mean_squared_error, root_mean_squared_error\n",
    "    * 이진분류용 \n",
    "        - binary_crossentropy\n",
    "        - binary_hinge : margin-based loss function, SVM에서 사용되는 hinge loss 유사\n",
    "    * 다중분류용 \n",
    "        - categorical_crossentropy : 라벨이 One-Hot-Encoding인 경우\n",
    "        - sparse_categorical_crossentropy : 라벨이 int인 경우\n",
    "        - categorical_hinge: margin-based loss function, SVM에서 사용되는 hinge loss와 유사\n",
    "<hr>"
   ]
  },
  {
   "cell_type": "markdown",
   "metadata": {},
   "source": [
    "- 성능지표\n",
    "    * 회귀용\n",
    "        - mse, mae, r2_score\n",
    "        - mean_squared_error: 모델 예측값과 실제값 제곱 오차 계산\n",
    "        - mean_absolute_error: 모델 예측값과 실제값 절대 오차 계산\n",
    "        - mean_absolute_percentage_error: 모델 예측값과 실제값의 오차 비율 계산\n",
    "        - mean_squared_logarithmic_error: 모델 예측값과 실제값의 로그값 차이 계산\n",
    "    * 분류용 : 모델의 예측값과 실제값 일치 비율 계산\n",
    "        - accuracy, \n",
    "        - binary_accuracy : 이진 분류 문제 평가 지표\n",
    "        - categorical_accuracy : 다중 클래스 분류 평가 지표\n",
    "        - sparse_categorical_accuracy: 정수 형태 레이블 사용 다중 클래스 분류 평가 지표\n",
    "        - top_k_categorical_accuracy: 다중 클래스 분류 평가 지표. \n",
    "                                      상위 K개 클래스 중 실제 클래스 포함되어 있는 경우 계산\n",
    "        - sparse_top_k_categorical_accuracy: 정수 형태 레이블 사용 다중 클래스 분류 평가 지표\n",
    "                                             상위 K개 클래스 중 실제 클래스 포함되어 있는 경우 계산\n",
    "<hr>"
   ]
  },
  {
   "cell_type": "code",
   "execution_count": 78,
   "metadata": {},
   "outputs": [],
   "source": [
    "# 모델을 컴파일\n",
    "irisModel.compile(  loss='sparse_categorical_crossentropy', \n",
    "                    optimizer='adam', \n",
    "                    metrics=['accuracy'])"
   ]
  },
  {
   "cell_type": "markdown",
   "metadata": {},
   "source": [
    "### [5] 학습 <hr>"
   ]
  },
  {
   "cell_type": "markdown",
   "metadata": {},
   "source": [
    "### Callback \n",
    "- 모델 학습 과정 중 호출되는 콜백 함수들 포함하는 모듈\n",
    "- 모델 학습 도중에 지정된 시점에서 호출되어 추가적인 작업을 수행하거나 모델 조작\n",
    "- 모델 학습 세밀하게 제어하고, 학습 결과 모니터링하고 저장하는 등 작업 수행\n",
    "- 자주 사용되는 콜백함수\n",
    "    * ModelCheckpoint:  지정된 간격으로 모델의 가중치 저장  \n",
    "                        저장된 가중치 중에서 최상의 결과 보인 모델 선택 가능  \n",
    "    * EarlyStopping:    모델이 더 이상 개선되지 않을 때 학습 자동 종료   \n",
    "                        오버피팅 방지 가능  \n",
    "    * ReduceLROnPlateau:    검증 손실이 개선되지 않을 때 학습률 감소시킴   \n",
    "                            학습이 더욱 안정적으로 진행될 수 있음  \n",
    "    * TensorBoard:  모델의 학습 과정을 시각화하기 위한 TensorBoard 로그 생성   \n",
    "    * CSVLogger:    모델의 학습 과정을 CSV 파일로 기록  \n",
    "     \n",
    "    * LearningRateScheduler: 학습률 동적으로 조정"
   ]
  },
  {
   "cell_type": "code",
   "execution_count": 79,
   "metadata": {},
   "outputs": [],
   "source": [
    "from keras import callbacks "
   ]
  },
  {
   "cell_type": "code",
   "execution_count": 80,
   "metadata": {},
   "outputs": [],
   "source": [
    "# 커스텀 콜백 : 에포크가 끝날 때마다 도트(.) 출력해 훈련 진행 과정 표시\n",
    "class PrintDot(callbacks.Callback):\n",
    "  def on_epoch_end(self, epoch, logs):\n",
    "    if epoch % 100 == 0:  print('')\n",
    "    print('.', end='')"
   ]
  },
  {
   "cell_type": "code",
   "execution_count": 81,
   "metadata": {},
   "outputs": [
    {
     "name": "stdout",
     "output_type": "stream",
     "text": [
      "data.shape => (150, 4)\n",
      "target_oh.shape => (150, 3)\n",
      "target_label.shape => (150, 1)\n"
     ]
    }
   ],
   "source": [
    "### 데이터, 타겟 shape 확인\n",
    "target_label=label_int.reshape((-1,1))\n",
    "print(f'data.shape => {data.shape}')\n",
    "print(f'target_oh.shape => {target_oh.shape}')\n",
    "print(f'target_label.shape => {target_label.shape}')"
   ]
  },
  {
   "cell_type": "code",
   "execution_count": 82,
   "metadata": {},
   "outputs": [
    {
     "name": "stdout",
     "output_type": "stream",
     "text": [
      "\n",
      "....................................................................................................\n",
      "....................................................................................................\n",
      "....................................................................................................\n",
      "....................................................................................................\n",
      "....................................................................................................\n",
      "학습 종료\n"
     ]
    }
   ],
   "source": [
    "### 정수 인코딩 기반 모델 학습 --------------------------------------------------\n",
    "EPOCHS = 500\n",
    "PRINT_DOT = PrintDot()\n",
    "\n",
    "history = irisModel.fit(data, target_label,\n",
    "                        epochs=EPOCHS, \n",
    "                        validation_split = 0.2, \n",
    "                        verbose=0,\n",
    "                        callbacks=[PRINT_DOT])\n",
    "print(f'\\n학습 종료')"
   ]
  },
  {
   "cell_type": "markdown",
   "metadata": {},
   "source": [
    "#### [5-1] 모델 학습 과정 정보 확인 <hr>"
   ]
  },
  {
   "cell_type": "code",
   "execution_count": 68,
   "metadata": {},
   "outputs": [
    {
     "data": {
      "text/html": [
       "<div>\n",
       "<style scoped>\n",
       "    .dataframe tbody tr th:only-of-type {\n",
       "        vertical-align: middle;\n",
       "    }\n",
       "\n",
       "    .dataframe tbody tr th {\n",
       "        vertical-align: top;\n",
       "    }\n",
       "\n",
       "    .dataframe thead th {\n",
       "        text-align: right;\n",
       "    }\n",
       "</style>\n",
       "<table border=\"1\" class=\"dataframe\">\n",
       "  <thead>\n",
       "    <tr style=\"text-align: right;\">\n",
       "      <th></th>\n",
       "      <th>loss</th>\n",
       "      <th>accuracy</th>\n",
       "      <th>val_loss</th>\n",
       "      <th>val_accuracy</th>\n",
       "      <th>epoch</th>\n",
       "    </tr>\n",
       "  </thead>\n",
       "  <tbody>\n",
       "    <tr>\n",
       "      <th>495</th>\n",
       "      <td>0.161963</td>\n",
       "      <td>0.975000</td>\n",
       "      <td>0.976326</td>\n",
       "      <td>0.533333</td>\n",
       "      <td>495</td>\n",
       "    </tr>\n",
       "    <tr>\n",
       "      <th>496</th>\n",
       "      <td>0.160987</td>\n",
       "      <td>0.983333</td>\n",
       "      <td>0.995635</td>\n",
       "      <td>0.500000</td>\n",
       "      <td>496</td>\n",
       "    </tr>\n",
       "    <tr>\n",
       "      <th>497</th>\n",
       "      <td>0.159684</td>\n",
       "      <td>0.983333</td>\n",
       "      <td>1.015001</td>\n",
       "      <td>0.500000</td>\n",
       "      <td>497</td>\n",
       "    </tr>\n",
       "    <tr>\n",
       "      <th>498</th>\n",
       "      <td>0.160605</td>\n",
       "      <td>0.966667</td>\n",
       "      <td>1.042017</td>\n",
       "      <td>0.466667</td>\n",
       "      <td>498</td>\n",
       "    </tr>\n",
       "    <tr>\n",
       "      <th>499</th>\n",
       "      <td>0.159295</td>\n",
       "      <td>0.975000</td>\n",
       "      <td>0.958084</td>\n",
       "      <td>0.566667</td>\n",
       "      <td>499</td>\n",
       "    </tr>\n",
       "  </tbody>\n",
       "</table>\n",
       "</div>"
      ],
      "text/plain": [
       "         loss  accuracy  val_loss  val_accuracy  epoch\n",
       "495  0.161963  0.975000  0.976326      0.533333    495\n",
       "496  0.160987  0.983333  0.995635      0.500000    496\n",
       "497  0.159684  0.983333  1.015001      0.500000    497\n",
       "498  0.160605  0.966667  1.042017      0.466667    498\n",
       "499  0.159295  0.975000  0.958084      0.566667    499"
      ]
     },
     "execution_count": 68,
     "metadata": {},
     "output_type": "execute_result"
    }
   ],
   "source": [
    "hist = pd.DataFrame(history.history)\n",
    "hist['epoch'] = history.epoch\n",
    "hist.tail()"
   ]
  },
  {
   "cell_type": "code",
   "execution_count": 69,
   "metadata": {},
   "outputs": [],
   "source": [
    "epochs, values = hist['epoch'].values, hist['accuracy'].values"
   ]
  },
  {
   "cell_type": "code",
   "execution_count": 72,
   "metadata": {},
   "outputs": [],
   "source": [
    "import matplotlib.pyplot as plt\n",
    "\n",
    "def plot_history():\n",
    "    \n",
    "    plt.figure(figsize=(10, 12))\n",
    "    \n",
    "    plt.subplot(2, 1, 1)\n",
    "    plt.xlabel('Epoch')\n",
    "    plt.ylabel('[ACCURACY]')\n",
    "    plt.plot(hist['epoch'], hist['accuracy'], label='Train Error')\n",
    "    plt.plot(hist['epoch'], hist['val_accuracy'], label='Val Error')\n",
    "    plt.ylim([0,5])\n",
    "    plt.title(\"[CLASSIFICATION ACCURACY]\")\n",
    "    plt.legend()\n",
    "    plt.show()"
   ]
  },
  {
   "cell_type": "code",
   "execution_count": 73,
   "metadata": {},
   "outputs": [
    {
     "data": {
      "image/png": "[encoded data removed]",
      "text/plain": [
       "<Figure size 1000x1200 with 1 Axes>"
      ]
     },
     "metadata": {},
     "output_type": "display_data"
    }
   ],
   "source": [
    "plot_history()"
   ]
  },
  {
   "cell_type": "markdown",
   "metadata": {},
   "source": [
    "#### [5-2] 학습 - 조기종료 <hr>"
   ]
  },
  {
   "cell_type": "markdown",
   "metadata": {},
   "source": [
    "- [조기종료 callback]\n",
    "- 검증 손실이 더 이상 개선되지 않을 때 학습을 중단시키는 역할\n",
    "- 과적합 방지하고 학습 시간 단축 가능\n",
    "- 매개변수\n",
    "    * monitor: 모니터링할 지표 선택. \n",
    "        - 일반적으로 'val_loss'나 'val_acc' 선택.\n",
    "    * min_delta: 개선되었다고 판단할 최소한 변화량. \n",
    "        - 이 값보다 작으면 개선이 없는 것으로 간주\n",
    "        - 기본값 0\n",
    "    * patience: 개선 없다고 판단하기 전에 대기할 에폭 수\n",
    "        - 이 값만큼 검증 손실 개선되지 않으면 학습 중단. \n",
    "        - 기본값 0\n",
    "    * mode: 모니터링할 지표 최소화할지 최대화할지 결정.  \n",
    "        - 'min': 최소화, 'max' : 최대화\n",
    "        - 기본값 : 'auto'\n",
    "        - 'acc', 'accuracy', 'fmeasure', 'precision', 'recall' 중 하나이면 'max'로 설정\n",
    "        - 그렇지 않으면 'min'으로 설정\n",
    "    * baseline: 모니터링할 지표의 기준값 설정\n",
    "        - 이 값보다 개선되지 않으면 학습을 중단\n",
    "    * restore_best_weights: 최상의 가중치를 복원할지 여부를 결정\n",
    "        - 이 값을 True로 설정하면 학습 중 최상의 검증 손실을 가진 가중치를 복원\n",
    "        - 기본값은 False"
   ]
  },
  {
   "cell_type": "code",
   "execution_count": 74,
   "metadata": {},
   "outputs": [],
   "source": [
    "from keras.callbacks import ModelCheckpoint, EarlyStopping\n",
    "\n",
    "\n",
    "# patience 매개변수 : 성능 향상 체크할 에포크 횟수\n",
    "EARLY_STOP = EarlyStopping(monitor='val_loss', patience=10)"
   ]
  },
  {
   "cell_type": "markdown",
   "metadata": {},
   "source": [
    "- [ModelCheckpoint 콜백] \n",
    "    - 모델을 학습하는 동안 일정한 간격으로 모델의 가중치 저장\n",
    "    - 최상의 성능 보인 모델 선택하는 기능 제공\n",
    "    - 딥러닝 모델 학습의 안정성과 성능 향상을 위해 매우 유용\n",
    "\n",
    "    - 매개변수들\n",
    "        * filepath : 문자열. 모델 가중치 저장할 파일 경로  \n",
    "            - 파일 이름에는 epoch와 val_loss (또는 다른 지표)와 같은 템플릿 인수를 사용할 수 있음\n",
    "        * monitor : 모니터링할 지표를 지정  \n",
    "            - 기본값 : val_loss\n",
    "        * verbose : 얼마나 자세하게 정보를 표시할지를 제어\n",
    "            - 기본값 : 0,   0, 1 또는 2로 설정 가능\n",
    "        * save_best_only : 가장 좋은 성능 보인 가중치만 저장하려면 True로 설정, 기본값은 False\n",
    "        * save_weights_only : 가중치만 저장하려면 True로 설정, 기본값은 False\n",
    "            - False로 설정하면 모델 구조와 가중치를 모두 저장\n",
    "        * mode : 모니터링할 지표의 최소화 또는 최대화를 제어\n",
    "            - 기본값은 'auto', 'auto', 'min' 또는 'max' 중 하나로 설정 가능\n",
    "        * save_freq : 가중치를 저장할 빈도를 지정\n",
    "            - 기본값 : 'epoch'\n",
    "            - 'epoch' 설정 : 각 에포크 끝날 때마다 가중치 저장\n",
    "            - 정수 설정 : 해당 빈도로 가중치 저장"
   ]
  },
  {
   "cell_type": "code",
   "execution_count": 75,
   "metadata": {},
   "outputs": [],
   "source": [
    "filename= './weights.h5'\n",
    "\n",
    "# ModelCheckpoint 객체 생성\n",
    "CHECKPOINT = ModelCheckpoint(filename, monitor='val_accuracy', verbose=1, \n",
    "                             save_best_only=True, \n",
    "                             mode='max', \n",
    "                             save_weights_only=True)   # 가중치만 저장 \n"
   ]
  },
  {
   "cell_type": "code",
   "execution_count": 83,
   "metadata": {},
   "outputs": [
    {
     "name": "stdout",
     "output_type": "stream",
     "text": [
      "\n",
      ".\n",
      "Epoch 1: val_accuracy improved from -inf to 0.76667, saving model to .\\weights.h5\n",
      ".\n",
      "Epoch 2: val_accuracy did not improve from 0.76667\n",
      ".\n",
      "Epoch 3: val_accuracy did not improve from 0.76667\n",
      ".\n",
      "Epoch 4: val_accuracy did not improve from 0.76667\n",
      ".\n",
      "Epoch 5: val_accuracy improved from 0.76667 to 0.80000, saving model to .\\weights.h5\n",
      ".\n",
      "Epoch 6: val_accuracy did not improve from 0.80000\n",
      ".\n",
      "Epoch 7: val_accuracy did not improve from 0.80000\n",
      ".\n",
      "Epoch 8: val_accuracy did not improve from 0.80000\n",
      ".\n",
      "Epoch 9: val_accuracy did not improve from 0.80000\n",
      ".\n",
      "Epoch 10: val_accuracy did not improve from 0.80000\n",
      ".\n",
      "Epoch 11: val_accuracy did not improve from 0.80000\n",
      ".\n",
      "Epoch 12: val_accuracy did not improve from 0.80000\n",
      ".\n",
      "Epoch 13: val_accuracy did not improve from 0.80000\n",
      ".\n",
      "Epoch 14: val_accuracy did not improve from 0.80000\n",
      ".\n",
      "Epoch 15: val_accuracy did not improve from 0.80000\n",
      ".\n",
      "Epoch 16: val_accuracy did not improve from 0.80000\n"
     ]
    }
   ],
   "source": [
    "### 원-핫-인코딩 기반 모델 학습 --------------------------------------------------\n",
    "EPOCHS = 500\n",
    "\n",
    "history = irisModel.fit(data, target_label, \n",
    "                        epochs=EPOCHS,\n",
    "                        validation_split = 0.2, \n",
    "                        verbose=0, \n",
    "                        callbacks=[EARLY_STOP, PRINT_DOT, CHECKPOINT])\n",
    "\n"
   ]
  },
  {
   "cell_type": "code",
   "execution_count": 77,
   "metadata": {},
   "outputs": [
    {
     "data": {
      "text/html": [
       "<div>\n",
       "<style scoped>\n",
       "    .dataframe tbody tr th:only-of-type {\n",
       "        vertical-align: middle;\n",
       "    }\n",
       "\n",
       "    .dataframe tbody tr th {\n",
       "        vertical-align: top;\n",
       "    }\n",
       "\n",
       "    .dataframe thead th {\n",
       "        text-align: right;\n",
       "    }\n",
       "</style>\n",
       "<table border=\"1\" class=\"dataframe\">\n",
       "  <thead>\n",
       "    <tr style=\"text-align: right;\">\n",
       "      <th></th>\n",
       "      <th>loss</th>\n",
       "      <th>accuracy</th>\n",
       "      <th>val_loss</th>\n",
       "      <th>val_accuracy</th>\n",
       "      <th>epoch</th>\n",
       "    </tr>\n",
       "  </thead>\n",
       "  <tbody>\n",
       "    <tr>\n",
       "      <th>495</th>\n",
       "      <td>0.161963</td>\n",
       "      <td>0.975000</td>\n",
       "      <td>0.976326</td>\n",
       "      <td>0.533333</td>\n",
       "      <td>495</td>\n",
       "    </tr>\n",
       "    <tr>\n",
       "      <th>496</th>\n",
       "      <td>0.160987</td>\n",
       "      <td>0.983333</td>\n",
       "      <td>0.995635</td>\n",
       "      <td>0.500000</td>\n",
       "      <td>496</td>\n",
       "    </tr>\n",
       "    <tr>\n",
       "      <th>497</th>\n",
       "      <td>0.159684</td>\n",
       "      <td>0.983333</td>\n",
       "      <td>1.015001</td>\n",
       "      <td>0.500000</td>\n",
       "      <td>497</td>\n",
       "    </tr>\n",
       "    <tr>\n",
       "      <th>498</th>\n",
       "      <td>0.160605</td>\n",
       "      <td>0.966667</td>\n",
       "      <td>1.042017</td>\n",
       "      <td>0.466667</td>\n",
       "      <td>498</td>\n",
       "    </tr>\n",
       "    <tr>\n",
       "      <th>499</th>\n",
       "      <td>0.159295</td>\n",
       "      <td>0.975000</td>\n",
       "      <td>0.958084</td>\n",
       "      <td>0.566667</td>\n",
       "      <td>499</td>\n",
       "    </tr>\n",
       "  </tbody>\n",
       "</table>\n",
       "</div>"
      ],
      "text/plain": [
       "         loss  accuracy  val_loss  val_accuracy  epoch\n",
       "495  0.161963  0.975000  0.976326      0.533333    495\n",
       "496  0.160987  0.983333  0.995635      0.500000    496\n",
       "497  0.159684  0.983333  1.015001      0.500000    497\n",
       "498  0.160605  0.966667  1.042017      0.466667    498\n",
       "499  0.159295  0.975000  0.958084      0.566667    499"
      ]
     },
     "execution_count": 77,
     "metadata": {},
     "output_type": "execute_result"
    }
   ],
   "source": [
    "hist = pd.DataFrame(history.history)\n",
    "hist['epoch'] = history.epoch\n",
    "hist.tail()\n",
    "#plot_history()"
   ]
  },
  {
   "cell_type": "code",
   "execution_count": null,
   "metadata": {},
   "outputs": [],
   "source": [
    "plot_history()"
   ]
  },
  {
   "cell_type": "markdown",
   "metadata": {},
   "source": [
    "#### [6] 평가 WITH 테스트 데이터 <hr>"
   ]
  },
  {
   "cell_type": "code",
   "execution_count": 84,
   "metadata": {},
   "outputs": [
    {
     "name": "stdout",
     "output_type": "stream",
     "text": [
      "5/5 [==============================] - 0s 12ms/step - loss: 0.1136 - accuracy: 0.9533\n",
      "\n",
      "테스트 세트의 정확도:  0.95\n"
     ]
    }
   ],
   "source": [
    "loss, accuracy = irisModel.evaluate(data, target_label, verbose=1)\n",
    "\n",
    "print(f\"\\n테스트 세트의 정확도: {accuracy:5.2f}\")"
   ]
  },
  {
   "cell_type": "markdown",
   "metadata": {},
   "source": [
    "#### [7] 예측 WITH 사용되지 않은 데이터 <hr>"
   ]
  },
  {
   "cell_type": "code",
   "execution_count": 95,
   "metadata": {},
   "outputs": [
    {
     "name": "stdout",
     "output_type": "stream",
     "text": [
      "5/5 [==============================] - 0s 2ms/step\n"
     ]
    },
    {
     "name": "stdout",
     "output_type": "stream",
     "text": [
      "pre: [[9.99997675e-01 2.32388220e-06 2.72744556e-16]\n",
      " [9.99993265e-01 6.63974697e-06 5.15629189e-15]\n",
      " [9.99994934e-01 5.00301212e-06 3.13212243e-15]\n",
      " [9.99987543e-01 1.23498867e-05 1.60643830e-14]\n",
      " [9.99997675e-01 2.27095052e-06 2.54071741e-16]\n",
      " [9.99996245e-01 3.73117655e-06 1.88895534e-16]\n",
      " [9.99993265e-01 6.67141921e-06 4.81125514e-15]\n",
      " [9.99996364e-01 3.58651391e-06 8.12330960e-16]\n",
      " [9.99982893e-01 1.70219882e-05 5.57500315e-14]\n",
      " [9.99994814e-01 5.10446125e-06 2.41658923e-15]\n",
      " [9.99998510e-01 1.38062694e-06 5.15080934e-17]\n",
      " [9.99992788e-01 7.19288437e-06 2.83331420e-15]\n",
      " [9.99994576e-01 5.32449849e-06 3.76732345e-15]\n",
      " [9.99992669e-01 7.24863457e-06 1.08602482e-14]\n",
      " [9.99999464e-01 4.59985813e-07 1.76538479e-18]\n",
      " [9.99999344e-01 5.50299944e-07 2.75382447e-18]\n",
      " [9.99998629e-01 1.27640385e-06 4.10277845e-17]\n",
      " [9.99997199e-01 2.77772210e-06 4.68918128e-16]\n",
      " [9.99998033e-01 1.92100401e-06 4.64233778e-17]\n",
      " [9.99997914e-01 2.02286355e-06 1.67132359e-16]\n",
      " [9.99995410e-01 4.54589690e-06 4.80506386e-16]\n",
      " [9.99996006e-01 3.95391726e-06 5.84080727e-16]\n",
      " [9.99997437e-01 2.54492511e-06 4.08159237e-16]\n",
      " [9.99966204e-01 3.37308556e-05 2.38773489e-14]\n",
      " [9.99975502e-01 2.44048861e-05 1.24488432e-14]\n",
      " [9.99986947e-01 1.29769705e-05 9.47864003e-15]\n",
      " [9.99986708e-01 1.32679943e-05 6.08764358e-15]\n",
      " [9.99997675e-01 2.25863050e-06 2.42262223e-16]\n",
      " [9.99997556e-01 2.37798417e-06 2.92783000e-16]\n",
      " [9.99987066e-01 1.28950078e-05 1.10360507e-14]\n",
      " [9.99985993e-01 1.39040922e-05 1.23552994e-14]\n",
      " [9.99994934e-01 4.95656650e-06 8.19560281e-16]\n",
      " [9.99999106e-01 8.42792929e-07 1.11673659e-17]\n",
      " [9.99999344e-01 5.79888251e-07 3.47083083e-18]\n",
      " [9.99994814e-01 5.10446125e-06 2.41658923e-15]\n",
      " [9.99996603e-01 3.29478894e-06 8.63940625e-16]\n",
      " [9.99998629e-01 1.36886956e-06 5.29288886e-17]\n",
      " [9.99994814e-01 5.10446125e-06 2.41658923e-15]\n",
      " [9.99990761e-01 9.15047076e-06 2.09388679e-14]\n",
      " [9.99996841e-01 3.10442124e-06 5.56649989e-16]\n",
      " [9.99997079e-01 2.85791543e-06 5.27909102e-16]\n",
      " [9.99942482e-01 5.74864061e-05 9.48730786e-13]\n",
      " [9.99992907e-01 6.99133170e-06 8.99402453e-15]\n",
      " [9.99973714e-01 2.62231551e-05 1.70495332e-14]\n",
      " [9.99983728e-01 1.61824555e-05 2.57277046e-15]\n",
      " [9.99987900e-01 1.20360419e-05 1.60954878e-14]\n",
      " [9.99998033e-01 1.93725282e-06 1.27973377e-16]\n",
      " [9.99993384e-01 6.59778470e-06 6.00348577e-15]\n",
      " [9.99998391e-01 1.54353245e-06 7.32113804e-17]\n",
      " [9.99996483e-01 3.40043289e-06 9.02519005e-16]\n",
      " [2.71019282e-16 9.99995768e-01 4.15431259e-06]\n",
      " [1.14044781e-16 9.99978483e-01 2.14470128e-05]\n",
      " [8.94467110e-16 9.99938309e-01 6.16577745e-05]\n",
      " [1.66978226e-12 9.99035537e-01 9.64387669e-04]\n",
      " [1.03790383e-13 9.99650240e-01 3.49816110e-04]\n",
      " [4.13888487e-13 9.99420285e-01 5.79622167e-04]\n",
      " [6.12107004e-14 9.99711514e-01 2.88477720e-04]\n",
      " [8.29463942e-10 9.99972045e-01 2.78793996e-05]\n",
      " [3.64765157e-16 9.99986231e-01 1.37655870e-05]\n",
      " [3.54451874e-13 9.99452233e-01 5.47732168e-04]\n",
      " [1.13189926e-11 9.99850512e-01 1.49418644e-04]\n",
      " [2.12495177e-15 9.99915421e-01 8.45683608e-05]\n",
      " [8.48670201e-13 9.99978244e-01 2.17549568e-05]\n",
      " [7.99936940e-13 9.99262810e-01 7.37230817e-04]\n",
      " [1.02879398e-11 9.99988496e-01 1.14750255e-05]\n",
      " [3.61748841e-15 9.99994338e-01 5.54950520e-06]\n",
      " [8.65435362e-11 9.95930791e-01 4.06919094e-03]\n",
      " [1.32966077e-12 9.99991119e-01 8.80292100e-06]\n",
      " [5.46603083e-08 9.58169639e-01 4.18304503e-02]\n",
      " [7.46410366e-13 9.99968708e-01 3.12201555e-05]\n",
      " [1.66324105e-06 8.63689244e-01 1.36309043e-01]\n",
      " [1.44095185e-13 9.99986589e-01 1.33456324e-05]\n",
      " [2.57793289e-07 9.27790999e-01 7.22086653e-02]\n",
      " [2.40548018e-15 9.99911487e-01 8.84854890e-05]\n",
      " [1.07955764e-14 9.99989927e-01 9.99043732e-06]\n",
      " [1.63148657e-15 9.99989688e-01 1.02144650e-05]\n",
      " [2.44303360e-15 9.99910891e-01 8.89874427e-05]\n",
      " [1.69389247e-09 9.88005579e-01 1.19944373e-02]\n",
      " [2.07088665e-12 9.98956680e-01 1.04321097e-03]\n",
      " [1.84039395e-09 9.99996960e-01 2.94566712e-06]\n",
      " [1.28328609e-12 9.99956667e-01 4.32505985e-05]\n",
      " [2.57596878e-11 9.99982297e-01 1.76160938e-05]\n",
      " [6.96910899e-13 9.99982893e-01 1.70295552e-05]\n",
      " [5.35479514e-04 3.57778788e-01 6.41685665e-01]\n",
      " [1.40997425e-09 9.88777220e-01 1.12227714e-02]\n",
      " [8.75869591e-15 9.99858141e-01 1.41842422e-04]\n",
      " [2.02942781e-16 9.99964058e-01 3.58719371e-05]\n",
      " [1.20527544e-13 9.99630630e-01 3.69440677e-04]\n",
      " [2.07100928e-14 9.99966323e-01 3.36733901e-05]\n",
      " [4.04887814e-14 9.99752045e-01 2.48071854e-04]\n",
      " [7.12758086e-13 9.99293327e-01 7.06825231e-04]\n",
      " [1.46498143e-14 9.99828815e-01 1.71149004e-04]\n",
      " [1.12802427e-13 9.99967992e-01 3.19201972e-05]\n",
      " [7.00231206e-10 9.99969780e-01 3.01475084e-05]\n",
      " [1.75173867e-14 9.99817371e-01 1.82692951e-04]\n",
      " [3.91386617e-14 9.99981344e-01 1.85569133e-05]\n",
      " [4.58634671e-15 9.99951541e-01 4.83784315e-05]\n",
      " [5.76731605e-15 9.99982893e-01 1.70050480e-05]\n",
      " [2.64727742e-08 9.99990761e-01 9.14776592e-06]\n",
      " [1.07878845e-14 9.99948561e-01 5.13707382e-05]\n",
      " [3.41717266e-02 5.67145310e-02 9.09113765e-01]\n",
      " [3.26199643e-02 5.82525283e-02 9.09127533e-01]\n",
      " [3.34479660e-02 5.74191660e-02 9.09132838e-01]\n",
      " [3.13071236e-02 5.96379191e-02 9.09054935e-01]\n",
      " [3.53080444e-02 5.56503497e-02 9.09041584e-01]\n",
      " [3.35921198e-02 5.72770834e-02 9.09130812e-01]\n",
      " [3.13837267e-02 5.95548265e-02 9.09061432e-01]\n",
      " [3.07453386e-02 6.02564029e-02 9.08998072e-01]\n",
      " [3.13917100e-02 5.95461801e-02 9.09062088e-01]\n",
      " [3.72700021e-02 5.39238565e-02 9.08806086e-01]\n",
      " [2.53141683e-04 4.41751868e-01 5.57994962e-01]\n",
      " [3.19986939e-02 5.88979796e-02 9.09103274e-01]\n",
      " [3.33871506e-02 5.74793592e-02 9.09133434e-01]\n",
      " [3.38950753e-02 5.69813102e-02 9.09123540e-01]\n",
      " [3.30358408e-02 5.78302182e-02 9.09133971e-01]\n",
      " [3.56675647e-02 5.53238280e-02 9.09008622e-01]\n",
      " [7.35230977e-03 1.27045721e-01 8.65602016e-01]\n",
      " [3.37482877e-02 5.71241342e-02 9.09127533e-01]\n",
      " [3.64661999e-02 5.46150617e-02 9.08918679e-01]\n",
      " [5.87935420e-03 1.41169101e-01 8.52951527e-01]\n",
      " [3.54154967e-02 5.55522777e-02 9.09032285e-01]\n",
      " [3.35898697e-02 5.72792850e-02 9.09130812e-01]\n",
      " [3.27497348e-02 5.81199303e-02 9.09130275e-01]\n",
      " [2.85029848e-04 4.28322166e-01 5.71392715e-01]\n",
      " [3.34663056e-02 5.74010275e-02 9.09132659e-01]\n",
      " [1.01145869e-03 2.90231138e-01 7.08757401e-01]\n",
      " [3.25484179e-05 6.59659266e-01 3.40308279e-01]\n",
      " [2.77736926e-05 6.74308598e-01 3.25663596e-01]\n",
      " [3.43397260e-02 5.65540232e-02 9.09106195e-01]\n",
      " [8.29806766e-07 8.92063975e-01 1.07935116e-01]\n",
      " [3.14430743e-02 5.94906248e-02 9.09066200e-01]\n",
      " [2.15800701e-05 6.96744800e-01 3.03233653e-01]\n",
      " [3.54254730e-02 5.55431731e-02 9.09031332e-01]\n",
      " [7.22976026e-08 9.53805864e-01 4.61939424e-02]\n",
      " [6.60381978e-03 1.33691907e-01 8.59704375e-01]\n",
      " [3.49228755e-02 5.60054965e-02 9.09071505e-01]\n",
      " [3.62409018e-02 5.48127331e-02 9.08946276e-01]\n",
      " [5.37128234e-03 1.47191122e-01 8.47437620e-01]\n",
      " [1.43372936e-05 7.30783403e-01 2.69202232e-01]\n",
      " [2.58354396e-02 6.64511099e-02 9.07713532e-01]\n",
      " [3.68387736e-02 5.42920008e-02 9.08869267e-01]\n",
      " [3.47299092e-02 5.61855361e-02 9.09084499e-01]\n",
      " [3.26199643e-02 5.82525283e-02 9.09127533e-01]\n",
      " [3.58443968e-02 5.51649444e-02 9.08990741e-01]\n",
      " [3.72211859e-02 5.39652333e-02 9.08813655e-01]\n",
      " [3.52879278e-02 5.56687638e-02 9.09043312e-01]\n",
      " [3.19834575e-02 5.89140579e-02 9.09102499e-01]\n",
      " [1.68461688e-02 8.37591514e-02 8.99394631e-01]\n",
      " [3.58909778e-02 5.51232845e-02 9.08985794e-01]\n",
      " [6.55741850e-03 1.34137183e-01 8.59305382e-01]], (150, 3)\n",
      "[9.9999768e-01 2.3238822e-06 2.7274456e-16] - 0\n",
      "[9.9999326e-01 6.6397470e-06 5.1562919e-15] - 0\n",
      "[9.9999493e-01 5.0030121e-06 3.1321224e-15] - 0\n",
      "[9.9998754e-01 1.2349887e-05 1.6064383e-14] - 0\n",
      "[9.9999768e-01 2.2709505e-06 2.5407174e-16] - 0\n",
      "[9.9999624e-01 3.7311765e-06 1.8889553e-16] - 0\n",
      "[9.9999326e-01 6.6714192e-06 4.8112551e-15] - 0\n",
      "[9.9999636e-01 3.5865139e-06 8.1233096e-16] - 0\n",
      "[9.9998289e-01 1.7021988e-05 5.5750031e-14] - 0\n",
      "[9.9999481e-01 5.1044613e-06 2.4165892e-15] - 0\n",
      "[9.9999851e-01 1.3806269e-06 5.1508093e-17] - 0\n",
      "[9.9999279e-01 7.1928844e-06 2.8333142e-15] - 0\n",
      "[9.9999458e-01 5.3244985e-06 3.7673235e-15] - 0\n",
      "[9.9999267e-01 7.2486346e-06 1.0860248e-14] - 0\n",
      "[9.9999946e-01 4.5998581e-07 1.7653848e-18] - 0\n",
      "[9.9999934e-01 5.5029994e-07 2.7538245e-18] - 0\n",
      "[9.9999863e-01 1.2764039e-06 4.1027784e-17] - 0\n",
      "[9.9999720e-01 2.7777221e-06 4.6891813e-16] - 0\n",
      "[9.9999803e-01 1.9210040e-06 4.6423378e-17] - 0\n",
      "[9.9999791e-01 2.0228636e-06 1.6713236e-16] - 0\n",
      "[9.999954e-01 4.545897e-06 4.805064e-16] - 0\n",
      "[9.9999601e-01 3.9539173e-06 5.8408073e-16] - 0\n",
      "[9.9999744e-01 2.5449251e-06 4.0815924e-16] - 0\n",
      "[9.9996620e-01 3.3730856e-05 2.3877349e-14] - 0\n",
      "[9.9997550e-01 2.4404886e-05 1.2448843e-14] - 0\n",
      "[9.99986947e-01 1.29769705e-05 9.47864003e-15] - 0\n",
      "[9.9998671e-01 1.3267994e-05 6.0876436e-15] - 0\n",
      "[9.9999768e-01 2.2586305e-06 2.4226222e-16] - 0\n",
      "[9.9999756e-01 2.3779842e-06 2.9278300e-16] - 0\n",
      "[9.9998707e-01 1.2895008e-05 1.1036051e-14] - 0\n",
      "[9.99985993e-01 1.39040922e-05 1.23552994e-14] - 0\n",
      "[9.9999493e-01 4.9565665e-06 8.1956028e-16] - 0\n",
      "[9.9999911e-01 8.4279293e-07 1.1167366e-17] - 0\n",
      "[9.9999934e-01 5.7988825e-07 3.4708308e-18] - 0\n",
      "[9.9999481e-01 5.1044613e-06 2.4165892e-15] - 0\n",
      "[9.999966e-01 3.294789e-06 8.639406e-16] - 0\n",
      "[9.9999863e-01 1.3688696e-06 5.2928889e-17] - 0\n",
      "[9.9999481e-01 5.1044613e-06 2.4165892e-15] - 0\n",
      "[9.9999076e-01 9.1504708e-06 2.0938868e-14] - 0\n",
      "[9.9999684e-01 3.1044212e-06 5.5664999e-16] - 0\n",
      "[9.9999708e-01 2.8579154e-06 5.2790910e-16] - 0\n",
      "[9.9994248e-01 5.7486406e-05 9.4873079e-13] - 0\n",
      "[9.9999291e-01 6.9913317e-06 8.9940245e-15] - 0\n",
      "[9.9997371e-01 2.6223155e-05 1.7049533e-14] - 0\n",
      "[9.9998373e-01 1.6182456e-05 2.5727705e-15] - 0\n",
      "[9.9998790e-01 1.2036042e-05 1.6095488e-14] - 0\n",
      "[9.9999803e-01 1.9372528e-06 1.2797338e-16] - 0\n",
      "[9.9999338e-01 6.5977847e-06 6.0034858e-15] - 0\n",
      "[9.9999839e-01 1.5435324e-06 7.3211380e-17] - 0\n",
      "[9.999965e-01 3.400433e-06 9.025190e-16] - 0\n",
      "[2.7101928e-16 9.9999577e-01 4.1543126e-06] - 1\n",
      "[1.1404478e-16 9.9997848e-01 2.1447013e-05] - 1\n",
      "[8.9446711e-16 9.9993831e-01 6.1657774e-05] - 1\n",
      "[1.6697823e-12 9.9903554e-01 9.6438767e-04] - 1\n",
      "[1.0379038e-13 9.9965024e-01 3.4981611e-04] - 1\n",
      "[4.1388849e-13 9.9942029e-01 5.7962217e-04] - 1\n",
      "[6.1210700e-14 9.9971151e-01 2.8847772e-04] - 1\n",
      "[8.2946394e-10 9.9997205e-01 2.7879400e-05] - 1\n",
      "[3.6476516e-16 9.9998623e-01 1.3765587e-05] - 1\n",
      "[3.5445187e-13 9.9945223e-01 5.4773217e-04] - 1\n",
      "[1.1318993e-11 9.9985051e-01 1.4941864e-04] - 1\n",
      "[2.1249518e-15 9.9991542e-01 8.4568361e-05] - 1\n",
      "[8.4867020e-13 9.9997824e-01 2.1754957e-05] - 1\n",
      "[7.9993694e-13 9.9926281e-01 7.3723082e-04] - 1\n",
      "[1.02879398e-11 9.99988496e-01 1.14750255e-05] - 1\n",
      "[3.6174884e-15 9.9999434e-01 5.5495052e-06] - 1\n",
      "[8.6543536e-11 9.9593079e-01 4.0691909e-03] - 1\n",
      "[1.3296608e-12 9.9999112e-01 8.8029210e-06] - 1\n",
      "[5.4660308e-08 9.5816964e-01 4.1830450e-02] - 1\n",
      "[7.4641037e-13 9.9996871e-01 3.1220156e-05] - 1\n",
      "[1.6632411e-06 8.6368924e-01 1.3630904e-01] - 1\n",
      "[1.4409519e-13 9.9998659e-01 1.3345632e-05] - 1\n",
      "[2.5779329e-07 9.2779100e-01 7.2208665e-02] - 1\n",
      "[2.4054802e-15 9.9991149e-01 8.8485489e-05] - 1\n",
      "[1.0795576e-14 9.9998993e-01 9.9904373e-06] - 1\n",
      "[1.6314866e-15 9.9998969e-01 1.0214465e-05] - 1\n",
      "[2.4430336e-15 9.9991089e-01 8.8987443e-05] - 1\n",
      "[1.6938925e-09 9.8800558e-01 1.1994437e-02] - 1\n",
      "[2.0708866e-12 9.9895668e-01 1.0432110e-03] - 1\n",
      "[1.8403939e-09 9.9999696e-01 2.9456671e-06] - 1\n",
      "[1.2832861e-12 9.9995667e-01 4.3250599e-05] - 1\n",
      "[2.5759688e-11 9.9998230e-01 1.7616094e-05] - 1\n",
      "[6.9691090e-13 9.9998289e-01 1.7029555e-05] - 1\n",
      "[5.3547951e-04 3.5777879e-01 6.4168566e-01] - 2\n",
      "[1.4099742e-09 9.8877722e-01 1.1222771e-02] - 1\n",
      "[8.7586959e-15 9.9985814e-01 1.4184242e-04] - 1\n",
      "[2.0294278e-16 9.9996406e-01 3.5871937e-05] - 1\n",
      "[1.2052754e-13 9.9963063e-01 3.6944068e-04] - 1\n",
      "[2.0710093e-14 9.9996632e-01 3.3673390e-05] - 1\n",
      "[4.0488781e-14 9.9975204e-01 2.4807185e-04] - 1\n",
      "[7.1275809e-13 9.9929333e-01 7.0682523e-04] - 1\n",
      "[1.4649814e-14 9.9982882e-01 1.7114900e-04] - 1\n",
      "[1.1280243e-13 9.9996799e-01 3.1920197e-05] - 1\n",
      "[7.0023121e-10 9.9996978e-01 3.0147508e-05] - 1\n",
      "[1.7517387e-14 9.9981737e-01 1.8269295e-04] - 1\n",
      "[3.9138662e-14 9.9998134e-01 1.8556913e-05] - 1\n",
      "[4.5863467e-15 9.9995154e-01 4.8378432e-05] - 1\n",
      "[5.7673160e-15 9.9998289e-01 1.7005048e-05] - 1\n",
      "[2.6472774e-08 9.9999076e-01 9.1477659e-06] - 1\n",
      "[1.07878845e-14 9.99948561e-01 5.13707382e-05] - 1\n",
      "[0.03417173 0.05671453 0.90911376] - 2\n",
      "[0.03261996 0.05825253 0.90912753] - 2\n",
      "[0.03344797 0.05741917 0.90913284] - 2\n",
      "[0.03130712 0.05963792 0.90905493] - 2\n",
      "[0.03530804 0.05565035 0.9090416 ] - 2\n",
      "[0.03359212 0.05727708 0.9091308 ] - 2\n",
      "[0.03138373 0.05955483 0.90906143] - 2\n",
      "[0.03074534 0.0602564  0.9089981 ] - 2\n",
      "[0.03139171 0.05954618 0.9090621 ] - 2\n",
      "[0.03727    0.05392386 0.9088061 ] - 2\n",
      "[2.5314168e-04 4.4175187e-01 5.5799496e-01] - 2\n",
      "[0.03199869 0.05889798 0.9091033 ] - 2\n",
      "[0.03338715 0.05747936 0.90913343] - 2\n",
      "[0.03389508 0.05698131 0.90912354] - 2\n",
      "[0.03303584 0.05783022 0.909134  ] - 2\n",
      "[0.03566756 0.05532383 0.9090086 ] - 2\n",
      "[0.00735231 0.12704572 0.865602  ] - 2\n",
      "[0.03374829 0.05712413 0.90912753] - 2\n",
      "[0.0364662  0.05461506 0.9089187 ] - 2\n",
      "[0.00587935 0.1411691  0.8529515 ] - 2\n",
      "[0.0354155  0.05555228 0.9090323 ] - 2\n",
      "[0.03358987 0.05727929 0.9091308 ] - 2\n",
      "[0.03274973 0.05811993 0.9091303 ] - 2\n",
      "[2.8502985e-04 4.2832217e-01 5.7139271e-01] - 2\n",
      "[0.03346631 0.05740103 0.90913266] - 2\n",
      "[0.00101146 0.29023114 0.7087574 ] - 2\n",
      "[3.2548418e-05 6.5965927e-01 3.4030828e-01] - 1\n",
      "[2.7773693e-05 6.7430860e-01 3.2566360e-01] - 1\n",
      "[0.03433973 0.05655402 0.9091062 ] - 2\n",
      "[8.29806766e-07 8.92063975e-01 1.07935116e-01] - 1\n",
      "[0.03144307 0.05949062 0.9090662 ] - 2\n",
      "[2.1580070e-05 6.9674480e-01 3.0323365e-01] - 1\n",
      "[0.03542547 0.05554317 0.90903133] - 2\n",
      "[7.2297603e-08 9.5380586e-01 4.6193942e-02] - 1\n",
      "[0.00660382 0.1336919  0.8597044 ] - 2\n",
      "[0.03492288 0.0560055  0.9090715 ] - 2\n",
      "[0.0362409  0.05481273 0.9089463 ] - 2\n",
      "[0.00537128 0.14719112 0.8474376 ] - 2\n",
      "[1.4337294e-05 7.3078340e-01 2.6920223e-01] - 1\n",
      "[0.02583544 0.06645111 0.90771353] - 2\n",
      "[0.03683877 0.054292   0.90886927] - 2\n",
      "[0.03472991 0.05618554 0.9090845 ] - 2\n",
      "[0.03261996 0.05825253 0.90912753] - 2\n",
      "[0.0358444  0.05516494 0.90899074] - 2\n",
      "[0.03722119 0.05396523 0.90881366] - 2\n",
      "[0.03528793 0.05566876 0.9090433 ] - 2\n",
      "[0.03198346 0.05891406 0.9091025 ] - 2\n",
      "[0.01684617 0.08375915 0.89939463] - 2\n",
      "[0.03589098 0.05512328 0.9089858 ] - 2\n",
      "[0.00655742 0.13413718 0.8593054 ] - 2\n"
     ]
    },
    {
     "data": {
      "text/plain": [
       "Index(['sepal_length', 'sepal_width', 'petal_length', 'petal_width'], dtype='object')"
      ]
     },
     "execution_count": 95,
     "metadata": {},
     "output_type": "execute_result"
    }
   ],
   "source": [
    "## 예측값 출력\n",
    "pre = irisModel.predict(data)\n",
    "print(f'pre: {pre}, {pre.shape}')\n",
    "\n",
    "## 예측값에 대한 라벨 \n",
    "pre_target= np.argmax(pre, axis = 1) \n",
    "\n",
    "for idx in range(pre.shape[0]):\n",
    "    print(f'{pre[idx]} - {pre_target[idx]}')\n",
    "    "
   ]
  },
  {
   "cell_type": "code",
   "execution_count": 115,
   "metadata": {},
   "outputs": [
    {
     "data": {
      "image/png": "[encoded data removed]",
      "text/plain": [
       "<Figure size 640x480 with 1 Axes>"
      ]
     },
     "metadata": {},
     "output_type": "display_data"
    }
   ],
   "source": [
    "\n",
    "plt.scatter(data[data.columns[2]], data[data.columns[3]], c=pre_target)\n",
    "plt.xlabel('LENGTH')\n",
    "plt.ylabel('WIDTH')\n",
    "plt.title(\"[IRIS SPECIES CLASSIFICATION]\")\n",
    "plt.show()"
   ]
  }
 ],
 "metadata": {
  "kernelspec": {
   "display_name": "KERAS_PY39",
   "language": "python",
   "name": "python3"
  },
  "language_info": {
   "codemirror_mode": {
    "name": "ipython",
    "version": 3
   },
   "file_extension": ".py",
   "mimetype": "text/x-python",
   "name": "python",
   "nbconvert_exporter": "python",
   "pygments_lexer": "ipython3",
   "version": "3.9.18"
  }
 },
 "nbformat": 4,
 "nbformat_minor": 2
}
