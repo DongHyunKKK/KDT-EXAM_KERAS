{
 "cells": [
  {
   "cell_type": "markdown",
   "metadata": {},
   "source": [
    "#### KERAS 모델 구성 이해\n",
    "- 모델 설계\n",
    "- 모델 생성\n",
    "- 모델 학습"
   ]
  },
  {
   "cell_type": "code",
   "execution_count": 2,
   "metadata": {},
   "outputs": [],
   "source": [
    "import numpy as np\n",
    "import pandas as pd\n",
    "\n",
    "from keras.models import Sequential\n",
    "from keras.layers import Dense, Activation"
   ]
  },
  {
   "cell_type": "markdown",
   "metadata": {},
   "source": [
    "#### [1] 데이터 준비 <hr>"
   ]
  },
  {
   "cell_type": "code",
   "execution_count": 3,
   "metadata": {},
   "outputs": [
    {
     "name": "stdout",
     "output_type": "stream",
     "text": [
      "<class 'pandas.core.frame.DataFrame'>\n",
      "RangeIndex: 150 entries, 0 to 149\n",
      "Data columns (total 5 columns):\n",
      " #   Column        Non-Null Count  Dtype  \n",
      "---  ------        --------------  -----  \n",
      " 0   sepal_length  150 non-null    float64\n",
      " 1   sepal_width   150 non-null    float64\n",
      " 2   petal_length  150 non-null    float64\n",
      " 3   petal_width   150 non-null    float64\n",
      " 4   species       150 non-null    object \n",
      "dtypes: float64(4), object(1)\n",
      "memory usage: 6.0+ KB\n"
     ]
    }
   ],
   "source": [
    "# 데이터 파일 -------------------------------------------\n",
    "filename='../DATA/Iris.csv'\n",
    "\n",
    "irisDF=pd.read_csv(filename)\n",
    "irisDF.info()"
   ]
  },
  {
   "cell_type": "markdown",
   "metadata": {},
   "source": [
    "#### [2] 훈련 데이터 준비 <hr>"
   ]
  },
  {
   "cell_type": "code",
   "execution_count": 4,
   "metadata": {},
   "outputs": [],
   "source": [
    "data=irisDF[irisDF.columns[:-2]]\n",
    "target=irisDF['petal_width']\n"
   ]
  },
  {
   "cell_type": "code",
   "execution_count": 5,
   "metadata": {},
   "outputs": [
    {
     "name": "stdout",
     "output_type": "stream",
     "text": [
      "data => (150, 3), 2차원\n",
      "target => (150,), 1차원\n",
      "\n",
      "0번행 데이터 ======>\n",
      "sepal_length    5.1\n",
      "sepal_width     3.5\n",
      "petal_length    1.4\n",
      "Name: 0, dtype: float64\n",
      "\n",
      "0번행 라벨 ======> 0.2\n"
     ]
    }
   ],
   "source": [
    "print(f'data => {data.shape}, {data.ndim}차원')\n",
    "print(f'target => {target.shape}, {target.ndim}차원\\n')\n",
    "\n",
    "print(f'0번행 데이터 ======>\\n{data.iloc[0]}\\n\\n0번행 라벨 ======> {target[0]}')"
   ]
  },
  {
   "cell_type": "markdown",
   "metadata": {},
   "source": [
    "#### [3] 모델 설계 <hr>"
   ]
  },
  {
   "cell_type": "code",
   "execution_count": 6,
   "metadata": {},
   "outputs": [],
   "source": [
    "# 순차적 모델 인스턴스 생성\n",
    "irisModel=Sequential(name='irisMODEL')"
   ]
  },
  {
   "cell_type": "code",
   "execution_count": 7,
   "metadata": {},
   "outputs": [],
   "source": [
    "# 입력층\n",
    "irisModel.add(Dense(10, input_shape=(3,), name='In'))\n",
    "irisModel.add(Activation('relu'))\n",
    "\n",
    "# 은닉층\n",
    "irisModel.add(Dense(8, activation='relu', name='Hidd1'))\n",
    "irisModel.add(Dense(6, activation='relu', name='Hidd2'))\n",
    "irisModel.add(Dense(4, activation='relu', name='Hidd3'))\n",
    "\n",
    "# 출력층\n",
    "irisModel.add(Dense(1, activation='linear', name='Out'))"
   ]
  },
  {
   "cell_type": "code",
   "execution_count": 8,
   "metadata": {},
   "outputs": [
    {
     "name": "stdout",
     "output_type": "stream",
     "text": [
      "Model: \"irisMODEL\"\n",
      "_________________________________________________________________\n",
      " Layer (type)                Output Shape              Param #   \n",
      "=================================================================\n",
      " In (Dense)                  (None, 10)                40        \n",
      "                                                                 \n",
      " activation (Activation)     (None, 10)                0         \n",
      "                                                                 \n",
      " Hidd1 (Dense)               (None, 8)                 88        \n",
      "                                                                 \n",
      " Hidd2 (Dense)               (None, 6)                 54        \n",
      "                                                                 \n",
      " Hidd3 (Dense)               (None, 4)                 28        \n",
      "                                                                 \n",
      " Out (Dense)                 (None, 1)                 5         \n",
      "                                                                 \n",
      "=================================================================\n",
      "Total params: 215\n",
      "Trainable params: 215\n",
      "Non-trainable params: 0\n",
      "_________________________________________________________________\n"
     ]
    }
   ],
   "source": [
    "irisModel.summary()"
   ]
  },
  {
   "cell_type": "markdown",
   "metadata": {},
   "source": [
    "### [4] 모델 생성 <hr>"
   ]
  },
  {
   "cell_type": "code",
   "execution_count": 12,
   "metadata": {},
   "outputs": [],
   "source": [
    "# 모델을 컴파일합니다.\n",
    "irisModel.compile(loss = 'mse', \n",
    "              optimizer = 'adam', \n",
    "              metrics = ['mae', 'mse'])"
   ]
  },
  {
   "cell_type": "markdown",
   "metadata": {},
   "source": [
    "### [5] 학습 <hr>"
   ]
  },
  {
   "cell_type": "code",
   "execution_count": 13,
   "metadata": {},
   "outputs": [],
   "source": [
    "from keras import callbacks "
   ]
  },
  {
   "cell_type": "code",
   "execution_count": 14,
   "metadata": {},
   "outputs": [],
   "source": [
    "# 에포크가 끝날 때마다 점(.)을 출력해 훈련 진행 과정을 표시합니다\n",
    "class PrintDot(callbacks.Callback):\n",
    "  def on_epoch_end(self, epoch, logs):\n",
    "    if epoch % 100 == 0: \n",
    "      print('')\n",
    "    print('.', end='')"
   ]
  },
  {
   "cell_type": "code",
   "execution_count": 15,
   "metadata": {},
   "outputs": [
    {
     "name": "stdout",
     "output_type": "stream",
     "text": [
      "\n",
      "....................................................................................................\n",
      "....................................................................................................\n",
      "....................................................................................................\n",
      "....................................................................................................\n",
      "....................................................................................................\n",
      "학습 종료\n"
     ]
    }
   ],
   "source": [
    "EPOCHS = 500\n",
    "\n",
    "history = irisModel.fit(data, target,\n",
    "                        epochs = EPOCHS, \n",
    "                        validation_split = 0.2, \n",
    "                        verbose = 0,\n",
    "                        callbacks = [PrintDot()])\n",
    "print(f'\\n학습 종료')"
   ]
  },
  {
   "cell_type": "markdown",
   "metadata": {},
   "source": [
    "#### [5-1] 모델 학습 과정 정보 확인 <hr>"
   ]
  },
  {
   "cell_type": "code",
   "execution_count": 16,
   "metadata": {},
   "outputs": [
    {
     "data": {
      "text/html": [
       "<div>\n",
       "<style scoped>\n",
       "    .dataframe tbody tr th:only-of-type {\n",
       "        vertical-align: middle;\n",
       "    }\n",
       "\n",
       "    .dataframe tbody tr th {\n",
       "        vertical-align: top;\n",
       "    }\n",
       "\n",
       "    .dataframe thead th {\n",
       "        text-align: right;\n",
       "    }\n",
       "</style>\n",
       "<table border=\"1\" class=\"dataframe\">\n",
       "  <thead>\n",
       "    <tr style=\"text-align: right;\">\n",
       "      <th></th>\n",
       "      <th>loss</th>\n",
       "      <th>mae</th>\n",
       "      <th>mse</th>\n",
       "      <th>val_loss</th>\n",
       "      <th>val_mae</th>\n",
       "      <th>val_mse</th>\n",
       "      <th>epoch</th>\n",
       "    </tr>\n",
       "  </thead>\n",
       "  <tbody>\n",
       "    <tr>\n",
       "      <th>495</th>\n",
       "      <td>0.497567</td>\n",
       "      <td>0.629899</td>\n",
       "      <td>0.497567</td>\n",
       "      <td>1.162102</td>\n",
       "      <td>1.042567</td>\n",
       "      <td>1.162102</td>\n",
       "      <td>495</td>\n",
       "    </tr>\n",
       "    <tr>\n",
       "      <th>496</th>\n",
       "      <td>0.497566</td>\n",
       "      <td>0.629855</td>\n",
       "      <td>0.497566</td>\n",
       "      <td>1.161252</td>\n",
       "      <td>1.042160</td>\n",
       "      <td>1.161252</td>\n",
       "      <td>496</td>\n",
       "    </tr>\n",
       "    <tr>\n",
       "      <th>497</th>\n",
       "      <td>0.497532</td>\n",
       "      <td>0.629790</td>\n",
       "      <td>0.497532</td>\n",
       "      <td>1.160770</td>\n",
       "      <td>1.041928</td>\n",
       "      <td>1.160770</td>\n",
       "      <td>497</td>\n",
       "    </tr>\n",
       "    <tr>\n",
       "      <th>498</th>\n",
       "      <td>0.497554</td>\n",
       "      <td>0.629754</td>\n",
       "      <td>0.497554</td>\n",
       "      <td>1.159832</td>\n",
       "      <td>1.041478</td>\n",
       "      <td>1.159832</td>\n",
       "      <td>498</td>\n",
       "    </tr>\n",
       "    <tr>\n",
       "      <th>499</th>\n",
       "      <td>0.497506</td>\n",
       "      <td>0.629677</td>\n",
       "      <td>0.497506</td>\n",
       "      <td>1.159322</td>\n",
       "      <td>1.041233</td>\n",
       "      <td>1.159322</td>\n",
       "      <td>499</td>\n",
       "    </tr>\n",
       "  </tbody>\n",
       "</table>\n",
       "</div>"
      ],
      "text/plain": [
       "         loss       mae       mse  val_loss   val_mae   val_mse  epoch\n",
       "495  0.497567  0.629899  0.497567  1.162102  1.042567  1.162102    495\n",
       "496  0.497566  0.629855  0.497566  1.161252  1.042160  1.161252    496\n",
       "497  0.497532  0.629790  0.497532  1.160770  1.041928  1.160770    497\n",
       "498  0.497554  0.629754  0.497554  1.159832  1.041478  1.159832    498\n",
       "499  0.497506  0.629677  0.497506  1.159322  1.041233  1.159322    499"
      ]
     },
     "execution_count": 16,
     "metadata": {},
     "output_type": "execute_result"
    }
   ],
   "source": [
    "hist = pd.DataFrame(history.history)\n",
    "hist['epoch'] = history.epoch\n",
    "hist.tail()"
   ]
  },
  {
   "cell_type": "code",
   "execution_count": 17,
   "metadata": {},
   "outputs": [],
   "source": [
    "epochs, values = hist['epoch'].values, hist['mae'].values"
   ]
  },
  {
   "cell_type": "code",
   "execution_count": 18,
   "metadata": {},
   "outputs": [],
   "source": [
    "import matplotlib.pyplot as plt\n",
    "\n",
    "def plot_history():\n",
    "    \n",
    "    plt.figure(figsize=(10, 12))\n",
    "    \n",
    "    plt.subplot(2, 1, 1)\n",
    "    plt.xlabel('Epoch')\n",
    "    plt.ylabel('Mean Abs Error  [MAE]')\n",
    "    plt.plot(hist['epoch'], hist['mae'], label='Train Error')\n",
    "    plt.plot(hist['epoch'], hist['val_mae'], label='Val Error')\n",
    "    plt.ylim([0,5])\n",
    "    plt.title(\"[MAE]\")\n",
    "    plt.legend()\n",
    "    \n",
    "    \n",
    "    plt.subplot(2, 1, 2)\n",
    "    plt.xlabel('Epoch')\n",
    "    plt.ylabel('Mean Square Error [$MSE^2$]')\n",
    "    plt.plot(hist['epoch'], hist['mae'], label='Train Error')\n",
    "    plt.plot(hist['epoch'], hist['val_mae'], label='Val Error')\n",
    "    plt.ylim([0,5])\n",
    "    plt.title(\"[$MSE^2$]\")\n",
    "    plt.legend()\n",
    "    plt.show()"
   ]
  },
  {
   "cell_type": "code",
   "execution_count": null,
   "metadata": {},
   "outputs": [],
   "source": [
    "plot_history()"
   ]
  },
  {
   "cell_type": "markdown",
   "metadata": {},
   "source": [
    "#### [5-2] 학습 - 조기종료 <hr>"
   ]
  },
  {
   "cell_type": "code",
   "execution_count": null,
   "metadata": {},
   "outputs": [],
   "source": [
    "# patience 매개변수 : 성능 향상 체크할 에포크 횟수\n",
    "EARLY_STOP = callbacks.EarlyStopping(monitor='val_loss', patience=10)\n",
    "PRINT_DOT = PrintDot()\n",
    "EPOCHS = 500\n",
    "\n",
    "history = irisModel.fit(data, target, \n",
    "                        epochs=EPOCHS,\n",
    "                        validation_split = 0.2, \n",
    "                        verbose=0, \n",
    "                        callbacks=[EARLY_STOP, PRINT_DOT])"
   ]
  },
  {
   "cell_type": "code",
   "execution_count": null,
   "metadata": {},
   "outputs": [
    {
     "data": {
      "text/html": [
       "<div>\n",
       "<style scoped>\n",
       "    .dataframe tbody tr th:only-of-type {\n",
       "        vertical-align: middle;\n",
       "    }\n",
       "\n",
       "    .dataframe tbody tr th {\n",
       "        vertical-align: top;\n",
       "    }\n",
       "\n",
       "    .dataframe thead th {\n",
       "        text-align: right;\n",
       "    }\n",
       "</style>\n",
       "<table border=\"1\" class=\"dataframe\">\n",
       "  <thead>\n",
       "    <tr style=\"text-align: right;\">\n",
       "      <th></th>\n",
       "      <th>loss</th>\n",
       "      <th>mae</th>\n",
       "      <th>mse</th>\n",
       "      <th>val_loss</th>\n",
       "      <th>val_mae</th>\n",
       "      <th>val_mse</th>\n",
       "      <th>epoch</th>\n",
       "    </tr>\n",
       "  </thead>\n",
       "  <tbody>\n",
       "    <tr>\n",
       "      <th>177</th>\n",
       "      <td>0.496980</td>\n",
       "      <td>0.625885</td>\n",
       "      <td>0.496980</td>\n",
       "      <td>1.112908</td>\n",
       "      <td>1.018702</td>\n",
       "      <td>1.112908</td>\n",
       "      <td>177</td>\n",
       "    </tr>\n",
       "    <tr>\n",
       "      <th>178</th>\n",
       "      <td>0.496992</td>\n",
       "      <td>0.625890</td>\n",
       "      <td>0.496992</td>\n",
       "      <td>1.112604</td>\n",
       "      <td>1.018552</td>\n",
       "      <td>1.112604</td>\n",
       "      <td>178</td>\n",
       "    </tr>\n",
       "    <tr>\n",
       "      <th>179</th>\n",
       "      <td>0.496993</td>\n",
       "      <td>0.625905</td>\n",
       "      <td>0.496993</td>\n",
       "      <td>1.113089</td>\n",
       "      <td>1.018790</td>\n",
       "      <td>1.113089</td>\n",
       "      <td>179</td>\n",
       "    </tr>\n",
       "    <tr>\n",
       "      <th>180</th>\n",
       "      <td>0.496982</td>\n",
       "      <td>0.625907</td>\n",
       "      <td>0.496982</td>\n",
       "      <td>1.112987</td>\n",
       "      <td>1.018740</td>\n",
       "      <td>1.112987</td>\n",
       "      <td>180</td>\n",
       "    </tr>\n",
       "    <tr>\n",
       "      <th>181</th>\n",
       "      <td>0.496976</td>\n",
       "      <td>0.625899</td>\n",
       "      <td>0.496976</td>\n",
       "      <td>1.112875</td>\n",
       "      <td>1.018685</td>\n",
       "      <td>1.112875</td>\n",
       "      <td>181</td>\n",
       "    </tr>\n",
       "  </tbody>\n",
       "</table>\n",
       "</div>"
      ],
      "text/plain": [
       "         loss       mae       mse  val_loss   val_mae   val_mse  epoch\n",
       "177  0.496980  0.625885  0.496980  1.112908  1.018702  1.112908    177\n",
       "178  0.496992  0.625890  0.496992  1.112604  1.018552  1.112604    178\n",
       "179  0.496993  0.625905  0.496993  1.113089  1.018790  1.113089    179\n",
       "180  0.496982  0.625907  0.496982  1.112987  1.018740  1.112987    180\n",
       "181  0.496976  0.625899  0.496976  1.112875  1.018685  1.112875    181"
      ]
     },
     "execution_count": 21,
     "metadata": {},
     "output_type": "execute_result"
    }
   ],
   "source": [
    "hist = pd.DataFrame(history.history)\n",
    "hist['epoch'] = history.epoch\n",
    "hist.tail()"
   ]
  },
  {
   "cell_type": "code",
   "execution_count": null,
   "metadata": {},
   "outputs": [
    {
     "data": {
      "image/png": "[encoded data removed]",
      "text/plain": [
       "<Figure size 1000x1200 with 2 Axes>"
      ]
     },
     "metadata": {},
     "output_type": "display_data"
    }
   ],
   "source": [
    "plot_history()"
   ]
  },
  {
   "cell_type": "markdown",
   "metadata": {},
   "source": [
    "#### [6] 평가 WITH 테스트 데이터 <hr>"
   ]
  },
  {
   "cell_type": "code",
   "execution_count": null,
   "metadata": {},
   "outputs": [
    {
     "name": "stdout",
     "output_type": "stream",
     "text": [
      "5/5 [==============================] - 0s 2ms/step - loss: 0.6202 - mae: 0.7045 - mse: 0.6202\n",
      "\n",
      "테스트 세트의 평균 절대 오차:  0.70\n"
     ]
    }
   ],
   "source": [
    "loss, mae, mse = irisModel.evaluate(data, target, verbose=1)\n",
    "\n",
    "print(f\"\\n테스트 세트의 평균 절대 오차: {mae:5.2f}\")"
   ]
  },
  {
   "cell_type": "markdown",
   "metadata": {},
   "source": [
    "#### [7] 예측 WITH 사용되지 않은 데이터 <hr>"
   ]
  },
  {
   "cell_type": "code",
   "execution_count": null,
   "metadata": {},
   "outputs": [
    {
     "name": "stdout",
     "output_type": "stream",
     "text": [
      "5/5 [==============================] - 0s 0s/step\n",
      "pre_ : [[0.99464816]\n",
      " [0.99464816]\n",
      " [0.99464816]\n",
      " [0.99464816]\n",
      " [0.99464816]\n",
      " [0.99464816]\n",
      " [0.99464816]\n",
      " [0.99464816]\n",
      " [0.99464816]\n",
      " [0.99464816]\n",
      " [0.99464816]\n",
      " [0.99464816]\n",
      " [0.99464816]\n",
      " [0.99464816]\n",
      " [0.99464816]\n",
      " [0.99464816]\n",
      " [0.99464816]\n",
      " [0.99464816]\n",
      " [0.99464816]\n",
      " [0.99464816]\n",
      " [0.99464816]\n",
      " [0.99464816]\n",
      " [0.99464816]\n",
      " [0.99464816]\n",
      " [0.99464816]\n",
      " [0.99464816]\n",
      " [0.99464816]\n",
      " [0.99464816]\n",
      " [0.99464816]\n",
      " [0.99464816]\n",
      " [0.99464816]\n",
      " [0.99464816]\n",
      " [0.99464816]\n",
      " [0.99464816]\n",
      " [0.99464816]\n",
      " [0.99464816]\n",
      " [0.99464816]\n",
      " [0.99464816]\n",
      " [0.99464816]\n",
      " [0.99464816]\n",
      " [0.99464816]\n",
      " [0.99464816]\n",
      " [0.99464816]\n",
      " [0.99464816]\n",
      " [0.99464816]\n",
      " [0.99464816]\n",
      " [0.99464816]\n",
      " [0.99464816]\n",
      " [0.99464816]\n",
      " [0.99464816]\n",
      " [0.99464816]\n",
      " [0.99464816]\n",
      " [0.99464816]\n",
      " [0.99464816]\n",
      " [0.99464816]\n",
      " [0.99464816]\n",
      " [0.99464816]\n",
      " [0.99464816]\n",
      " [0.99464816]\n",
      " [0.99464816]\n",
      " [0.99464816]\n",
      " [0.99464816]\n",
      " [0.99464816]\n",
      " [0.99464816]\n",
      " [0.99464816]\n",
      " [0.99464816]\n",
      " [0.99464816]\n",
      " [0.99464816]\n",
      " [0.99464816]\n",
      " [0.99464816]\n",
      " [0.99464816]\n",
      " [0.99464816]\n",
      " [0.99464816]\n",
      " [0.99464816]\n",
      " [0.99464816]\n",
      " [0.99464816]\n",
      " [0.99464816]\n",
      " [0.99464816]\n",
      " [0.99464816]\n",
      " [0.99464816]\n",
      " [0.99464816]\n",
      " [0.99464816]\n",
      " [0.99464816]\n",
      " [0.99464816]\n",
      " [0.99464816]\n",
      " [0.99464816]\n",
      " [0.99464816]\n",
      " [0.99464816]\n",
      " [0.99464816]\n",
      " [0.99464816]\n",
      " [0.99464816]\n",
      " [0.99464816]\n",
      " [0.99464816]\n",
      " [0.99464816]\n",
      " [0.99464816]\n",
      " [0.99464816]\n",
      " [0.99464816]\n",
      " [0.99464816]\n",
      " [0.99464816]\n",
      " [0.99464816]\n",
      " [0.99464816]\n",
      " [0.99464816]\n",
      " [0.99464816]\n",
      " [0.99464816]\n",
      " [0.99464816]\n",
      " [0.99464816]\n",
      " [0.99464816]\n",
      " [0.99464816]\n",
      " [0.99464816]\n",
      " [0.99464816]\n",
      " [0.99464816]\n",
      " [0.99464816]\n",
      " [0.99464816]\n",
      " [0.99464816]\n",
      " [0.99464816]\n",
      " [0.99464816]\n",
      " [0.99464816]\n",
      " [0.99464816]\n",
      " [0.99464816]\n",
      " [0.99464816]\n",
      " [0.99464816]\n",
      " [0.99464816]\n",
      " [0.99464816]\n",
      " [0.99464816]\n",
      " [0.99464816]\n",
      " [0.99464816]\n",
      " [0.99464816]\n",
      " [0.99464816]\n",
      " [0.99464816]\n",
      " [0.99464816]\n",
      " [0.99464816]\n",
      " [0.99464816]\n",
      " [0.99464816]\n",
      " [0.99464816]\n",
      " [0.99464816]\n",
      " [0.99464816]\n",
      " [0.99464816]\n",
      " [0.99464816]\n",
      " [0.99464816]\n",
      " [0.99464816]\n",
      " [0.99464816]\n",
      " [0.99464816]\n",
      " [0.99464816]\n",
      " [0.99464816]\n",
      " [0.99464816]\n",
      " [0.99464816]\n",
      " [0.99464816]\n",
      " [0.99464816]\n",
      " [0.99464816]\n",
      " [0.99464816]]\n"
     ]
    },
    {
     "data": {
      "image/png": "[encoded data removed]",
      "text/plain": [
       "<Figure size 640x480 with 1 Axes>"
      ]
     },
     "metadata": {},
     "output_type": "display_data"
    }
   ],
   "source": [
    "pre_ = irisModel.predict(data)\n",
    "print(f'pre_ : {pre_}')\n",
    "\n",
    "plt.scatter(target, pre_)\n",
    "plt.xlabel('True Values [IRIS]')\n",
    "plt.ylabel('Predictions [PETAL_WIDTH]')\n",
    "plt.axis('equal')\n",
    "plt.axis('square')\n",
    "plt.xlim([0,plt.xlim()[1]])\n",
    "plt.ylim([0,plt.ylim()[1]])\n",
    "_ = plt.plot([-100, 100], [-100, 100])\n",
    "plt.show()"
   ]
  },
  {
   "cell_type": "code",
   "execution_count": null,
   "metadata": {},
   "outputs": [],
   "source": [
    "### 모델 속성 정보 출력 함수 -----------------------------------------------------------\n",
    "def display_info():\n",
    "    # 모델 객체의 입력 텐서 정보 \n",
    "    print(f'입력 텐서 정보 : {irisModel.inputs}\\n')\n",
    "    \n",
    "    # 모델 객체의 출력 텐서 정보 \n",
    "    print(f'출력 텐서 정보 : {irisModel.outputs}\\n')\n",
    "    \n",
    "    # 모델 구성 층 객체 정보\n",
    "    print(f'구성 층 정보 : {irisModel.layers}\\ng')\n",
    "    \n",
    "    # 해당 층에 대한 정보 확인 => Model.layers 리스트로 인덱스 접근\n",
    "    print(f'0번 층에 대한 weights 정보\\n{irisModel.layers[0].weights}\\n')\n",
    "    \n",
    "    # 모델 객체 전체에 대한 가중치\n",
    "    print(f'모델 전체 층에 대한 weights 정보\\n{irisModel.weights}\\n')"
   ]
  },
  {
   "cell_type": "code",
   "execution_count": null,
   "metadata": {},
   "outputs": [
    {
     "name": "stdout",
     "output_type": "stream",
     "text": [
      "입력 텐서 정보 : [<KerasTensor: shape=(None, 3) dtype=float32 (created by layer 'In_input')>]\n",
      "\n",
      "출력 텐서 정보 : [<KerasTensor: shape=(None, 1) dtype=float32 (created by layer 'Out')>]\n",
      "\n",
      "구성 층 정보 : [<keras.layers.core.dense.Dense object at 0x000001F250C06310>, <keras.layers.core.activation.Activation object at 0x000001F250C06550>, <keras.layers.core.dense.Dense object at 0x000001F250BF9FA0>, <keras.layers.core.dense.Dense object at 0x000001F250DEBCA0>, <keras.layers.core.dense.Dense object at 0x000001F250DF2B50>, <keras.layers.core.dense.Dense object at 0x000001F250E0BA90>]\n",
      "g\n",
      "0번 층에 대한 weights 정보\n",
      "[<tf.Variable 'In/kernel:0' shape=(3, 10) dtype=float32, numpy=\n",
      "array([[-0.44368   ,  0.31595397, -0.43562555, -0.47144228, -0.40412104,\n",
      "         0.5957793 , -0.2993538 ,  0.39273316,  0.58320403, -0.19172795],\n",
      "       [-0.22052324, -0.5296319 , -0.32401574, -0.12777883, -0.12252522,\n",
      "        -0.60700583, -0.42839456, -0.29843655,  0.48404726,  0.56251776],\n",
      "       [-0.3857168 , -0.515074  , -0.502772  , -0.54293996, -0.39867306,\n",
      "        -0.25766286,  0.44112003, -0.3262822 ,  0.06049629, -0.11801384]],\n",
      "      dtype=float32)>, <tf.Variable 'In/bias:0' shape=(10,) dtype=float32, numpy=\n",
      "array([ 0.        ,  0.        ,  0.        ,  0.        ,  0.        ,\n",
      "       -0.01938632,  0.        ,  0.02337917, -0.01933259, -0.02211312],\n",
      "      dtype=float32)>]\n",
      "\n",
      "모델 전체 층에 대한 weights 정보\n",
      "[<tf.Variable 'In/kernel:0' shape=(3, 10) dtype=float32, numpy=\n",
      "array([[-0.44368   ,  0.31595397, -0.43562555, -0.47144228, -0.40412104,\n",
      "         0.5957793 , -0.2993538 ,  0.39273316,  0.58320403, -0.19172795],\n",
      "       [-0.22052324, -0.5296319 , -0.32401574, -0.12777883, -0.12252522,\n",
      "        -0.60700583, -0.42839456, -0.29843655,  0.48404726,  0.56251776],\n",
      "       [-0.3857168 , -0.515074  , -0.502772  , -0.54293996, -0.39867306,\n",
      "        -0.25766286,  0.44112003, -0.3262822 ,  0.06049629, -0.11801384]],\n",
      "      dtype=float32)>, <tf.Variable 'In/bias:0' shape=(10,) dtype=float32, numpy=\n",
      "array([ 0.        ,  0.        ,  0.        ,  0.        ,  0.        ,\n",
      "       -0.01938632,  0.        ,  0.02337917, -0.01933259, -0.02211312],\n",
      "      dtype=float32)>, <tf.Variable 'Hidd1/kernel:0' shape=(10, 8) dtype=float32, numpy=\n",
      "array([[ 0.13498461,  0.3212651 , -0.26179945,  0.3349461 ,  0.33543587,\n",
      "         0.57100844,  0.02365547, -0.42201245],\n",
      "       [-0.3110452 ,  0.00153285, -0.36977565,  0.05804288,  0.5397291 ,\n",
      "        -0.57734394, -0.15879422,  0.55516446],\n",
      "       [-0.5166292 , -0.04004323, -0.00832444,  0.19663244,  0.40172327,\n",
      "         0.2606249 , -0.10116896,  0.50459564],\n",
      "       [ 0.24686682, -0.5727359 ,  0.52091825,  0.3042348 ,  0.20076913,\n",
      "        -0.38912213, -0.02028179,  0.26286983],\n",
      "       [-0.36253798, -0.04512644, -0.33255994, -0.22848406,  0.43636656,\n",
      "         0.13009524,  0.03858232,  0.49659288],\n",
      "       [-0.06068909,  0.2761194 ,  0.1350614 ,  0.44763517, -0.10510123,\n",
      "         0.4076339 , -0.4957686 , -0.2141934 ],\n",
      "       [-0.3652215 , -0.40700257, -0.05383295,  0.29207402, -0.37392572,\n",
      "         0.2567296 , -0.3702931 , -0.297166  ],\n",
      "       [-0.06730944,  0.2838724 ,  0.293256  , -0.4126392 ,  0.56565845,\n",
      "        -0.0292588 , -0.22177798,  0.14867276],\n",
      "       [-0.01967889, -0.05232744,  0.10543375,  0.3134996 , -0.39356163,\n",
      "         0.44945765,  0.0039261 , -0.5718128 ],\n",
      "       [-0.52298594,  0.33186984, -0.04053099,  0.35131234, -0.10653803,\n",
      "        -0.39484146, -0.43712765,  0.5129291 ]], dtype=float32)>, <tf.Variable 'Hidd1/bias:0' shape=(8,) dtype=float32, numpy=\n",
      "array([ 0.        ,  0.02221333,  0.02299276, -0.02255407,  0.        ,\n",
      "       -0.02075964,  0.        ,  0.        ], dtype=float32)>, <tf.Variable 'Hidd2/kernel:0' shape=(8, 6) dtype=float32, numpy=\n",
      "array([[-0.20006773, -0.24790457, -0.50445545, -0.2600694 ,  0.33653802,\n",
      "         0.27845818],\n",
      "       [ 0.22253485,  0.32142764,  0.40166235, -0.50732875, -0.07124454,\n",
      "        -0.4132389 ],\n",
      "       [ 0.42142963, -0.19816047,  0.56701267, -0.57638687,  0.27944022,\n",
      "        -0.67004883],\n",
      "       [-0.15971853,  0.20961936,  0.1768666 , -0.4468602 , -0.47520494,\n",
      "         0.4229951 ],\n",
      "       [-0.6386255 , -0.49363896, -0.336727  , -0.60440695,  0.33144832,\n",
      "         0.03056264],\n",
      "       [ 0.26673606,  0.43286243,  0.5932302 , -0.23186344, -0.35550502,\n",
      "         0.13564914],\n",
      "       [ 0.17646289, -0.09242481,  0.4518888 , -0.37796345, -0.16675696,\n",
      "         0.3343563 ],\n",
      "       [-0.35240057,  0.1104638 , -0.02266932, -0.1326235 , -0.0713892 ,\n",
      "         0.45257378]], dtype=float32)>, <tf.Variable 'Hidd2/bias:0' shape=(6,) dtype=float32, numpy=\n",
      "array([ 0.02330214, -0.02287561,  0.02296865,  0.        ,  0.        ,\n",
      "       -0.02273028], dtype=float32)>, <tf.Variable 'Hidd3/kernel:0' shape=(6, 4) dtype=float32, numpy=\n",
      "array([[-0.6015812 , -0.08319493, -0.24982458,  0.18710363],\n",
      "       [-0.33510754,  0.68039507, -0.66581124, -0.22540534],\n",
      "       [-0.00531155, -0.50124276,  0.13252938, -0.34897816],\n",
      "       [ 0.5846925 ,  0.55018914,  0.16927886, -0.14680463],\n",
      "       [ 0.57181036,  0.29306924, -0.72899467,  0.6403284 ],\n",
      "       [ 0.5351974 ,  0.13078329,  0.32393086,  0.70957255]],\n",
      "      dtype=float32)>, <tf.Variable 'Hidd3/bias:0' shape=(4,) dtype=float32, numpy=array([ 0.        , -0.02291394,  0.        ,  0.        ], dtype=float32)>, <tf.Variable 'Out/kernel:0' shape=(4, 1) dtype=float32, numpy=\n",
      "array([[-0.48909074],\n",
      "       [-0.09029146],\n",
      "       [-0.00342691],\n",
      "       [-0.782905  ]], dtype=float32)>, <tf.Variable 'Out/bias:0' shape=(1,) dtype=float32, numpy=array([0.99464816], dtype=float32)>]\n",
      "\n"
     ]
    }
   ],
   "source": [
    "display_info()"
   ]
  },
  {
   "cell_type": "code",
   "execution_count": null,
   "metadata": {},
   "outputs": [
    {
     "name": "stdout",
     "output_type": "stream",
     "text": [
      "name => irisMODEL\n",
      "layers => [{'class_name': 'InputLayer', 'config': {'batch_input_shape': (None, 3), 'dtype': 'float32', 'sparse': False, 'ragged': False, 'name': 'In_input'}}, {'class_name': 'Dense', 'config': {'name': 'In', 'trainable': True, 'batch_input_shape': (None, 3), 'dtype': 'float32', 'units': 10, 'activation': 'linear', 'use_bias': True, 'kernel_initializer': {'class_name': 'GlorotUniform', 'config': {'seed': None}}, 'bias_initializer': {'class_name': 'Zeros', 'config': {}}, 'kernel_regularizer': None, 'bias_regularizer': None, 'activity_regularizer': None, 'kernel_constraint': None, 'bias_constraint': None}}, {'class_name': 'Activation', 'config': {'name': 'activation', 'trainable': True, 'dtype': 'float32', 'activation': 'relu'}}, {'class_name': 'Dense', 'config': {'name': 'Hidd1', 'trainable': True, 'dtype': 'float32', 'units': 8, 'activation': 'relu', 'use_bias': True, 'kernel_initializer': {'class_name': 'GlorotUniform', 'config': {'seed': None}}, 'bias_initializer': {'class_name': 'Zeros', 'config': {}}, 'kernel_regularizer': None, 'bias_regularizer': None, 'activity_regularizer': None, 'kernel_constraint': None, 'bias_constraint': None}}, {'class_name': 'Dense', 'config': {'name': 'Hidd2', 'trainable': True, 'dtype': 'float32', 'units': 6, 'activation': 'relu', 'use_bias': True, 'kernel_initializer': {'class_name': 'GlorotUniform', 'config': {'seed': None}}, 'bias_initializer': {'class_name': 'Zeros', 'config': {}}, 'kernel_regularizer': None, 'bias_regularizer': None, 'activity_regularizer': None, 'kernel_constraint': None, 'bias_constraint': None}}, {'class_name': 'Dense', 'config': {'name': 'Hidd3', 'trainable': True, 'dtype': 'float32', 'units': 4, 'activation': 'relu', 'use_bias': True, 'kernel_initializer': {'class_name': 'GlorotUniform', 'config': {'seed': None}}, 'bias_initializer': {'class_name': 'Zeros', 'config': {}}, 'kernel_regularizer': None, 'bias_regularizer': None, 'activity_regularizer': None, 'kernel_constraint': None, 'bias_constraint': None}}, {'class_name': 'Dense', 'config': {'name': 'Out', 'trainable': True, 'dtype': 'float32', 'units': 1, 'activation': 'linear', 'use_bias': True, 'kernel_initializer': {'class_name': 'GlorotUniform', 'config': {'seed': None}}, 'bias_initializer': {'class_name': 'Zeros', 'config': {}}, 'kernel_regularizer': None, 'bias_regularizer': None, 'activity_regularizer': None, 'kernel_constraint': None, 'bias_constraint': None}}]\n",
      "Model: \"irisMODEL\"\n",
      "_________________________________________________________________\n",
      " Layer (type)                Output Shape              Param #   \n",
      "=================================================================\n",
      " In (Dense)                  (None, 10)                40        \n",
      "                                                                 \n",
      " activation (Activation)     (None, 10)                0         \n",
      "                                                                 \n",
      " Hidd1 (Dense)               (None, 8)                 88        \n",
      "                                                                 \n",
      " Hidd2 (Dense)               (None, 6)                 54        \n",
      "                                                                 \n",
      " Hidd3 (Dense)               (None, 4)                 28        \n",
      "                                                                 \n",
      " Out (Dense)                 (None, 1)                 5         \n",
      "                                                                 \n",
      "=================================================================\n",
      "Total params: 215\n",
      "Trainable params: 215\n",
      "Non-trainable params: 0\n",
      "_________________________________________________________________\n"
     ]
    }
   ],
   "source": [
    "# 현재 모델에 대한 설정을 모두 가져옮 => dict 타입\n",
    "config_=irisModel.get_config()\n",
    "for k, v in config_.items():\n",
    "    print(f'{k} => {v}')\n",
    "m3=Sequential.from_config(config_)\n",
    "m3.summary()"
   ]
  },
  {
   "cell_type": "markdown",
   "metadata": {},
   "source": [
    "### [4] 모델 저장 및 로딩 <hr>"
   ]
  },
  {
   "cell_type": "code",
   "execution_count": null,
   "metadata": {},
   "outputs": [],
   "source": [
    "###  모델 저장 => 구조+가중치 =>  *.h5/ .hdf5 / .keras\n",
    "model_filename='../Models/iris_model.h5'\n",
    "model_filename2='../Models/iris_model.keras'\n",
    "\n",
    "irisModel.save(model_filename)\n",
    "irisModel.save(model_filename2)"
   ]
  },
  {
   "cell_type": "code",
   "execution_count": null,
   "metadata": {},
   "outputs": [
    {
     "name": "stdout",
     "output_type": "stream",
     "text": [
      "Model: \"irisMODEL\"\n",
      "_________________________________________________________________\n",
      " Layer (type)                Output Shape              Param #   \n",
      "=================================================================\n",
      " In (Dense)                  (None, 10)                40        \n",
      "                                                                 \n",
      " activation (Activation)     (None, 10)                0         \n",
      "                                                                 \n",
      " Hidd1 (Dense)               (None, 8)                 88        \n",
      "                                                                 \n",
      " Hidd2 (Dense)               (None, 6)                 54        \n",
      "                                                                 \n",
      " Hidd3 (Dense)               (None, 4)                 28        \n",
      "                                                                 \n",
      " Out (Dense)                 (None, 1)                 5         \n",
      "                                                                 \n",
      "=================================================================\n",
      "Total params: 215\n",
      "Trainable params: 215\n",
      "Non-trainable params: 0\n",
      "_________________________________________________________________\n"
     ]
    }
   ],
   "source": [
    "###  모델 로딩\n",
    "from keras.models import load_model\n",
    "\n",
    "myModel2=load_model(model_filename2)\n",
    "myModel2.summary()"
   ]
  },
  {
   "cell_type": "code",
   "execution_count": null,
   "metadata": {},
   "outputs": [],
   "source": [
    "w_file ='./iris_weights'\n",
    "\n",
    "# 저장 => iris_weights.data, iris_weights.index\n",
    "irisModel.save_weights(w_file)"
   ]
  },
  {
   "cell_type": "code",
   "execution_count": null,
   "metadata": {},
   "outputs": [
    {
     "data": {
      "text/plain": [
       "<tensorflow.python.checkpoint.checkpoint.CheckpointLoadStatus at 0x1f253eb0610>"
      ]
     },
     "execution_count": 31,
     "metadata": {},
     "output_type": "execute_result"
    }
   ],
   "source": [
    "# 가중치 로딩\n",
    "irisModel.load_weights(w_file)"
   ]
  }
 ],
 "metadata": {
  "kernelspec": {
   "display_name": "KERAS_PY39",
   "language": "python",
   "name": "python3"
  },
  "language_info": {
   "codemirror_mode": {
    "name": "ipython",
    "version": 3
   },
   "file_extension": ".py",
   "mimetype": "text/x-python",
   "name": "python",
   "nbconvert_exporter": "python",
   "pygments_lexer": "ipython3",
   "version": "3.9.18"
  }
 },
 "nbformat": 4,
 "nbformat_minor": 2
}
